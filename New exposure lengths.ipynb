{
 "metadata": {
  "name": "New exposure lengths"
 },
 "nbformat": 3,
 "nbformat_minor": 0,
 "worksheets": [
  {
   "cells": [
    {
     "cell_type": "code",
     "collapsed": false,
     "input": [
      "%pylab inline"
     ],
     "language": "python",
     "metadata": {},
     "outputs": [
      {
       "output_type": "stream",
       "stream": "stdout",
       "text": [
        "\n",
        "Welcome to pylab, a matplotlib-based Python environment [backend: module://IPython.zmq.pylab.backend_inline].\n",
        "For more information, type 'help(pylab)'.\n"
       ]
      }
     ],
     "prompt_number": 2
    },
    {
     "cell_type": "code",
     "collapsed": false,
     "input": [
      "from LC_VHE_test_v6 import *\n",
      "import collections\n",
      "from uncertainties import unumpy"
     ],
     "language": "python",
     "metadata": {},
     "outputs": [
      {
       "ename": "ImportError",
       "evalue": "No module named asciitable",
       "output_type": "pyerr",
       "traceback": [
        "\u001b[1;31m---------------------------------------------------------------------------\u001b[0m\n\u001b[1;31mImportError\u001b[0m                               Traceback (most recent call last)",
        "\u001b[1;32m<ipython-input-5-f57fd8efe9b8>\u001b[0m in \u001b[0;36m<module>\u001b[1;34m()\u001b[0m\n\u001b[1;32m----> 1\u001b[1;33m \u001b[1;32mfrom\u001b[0m \u001b[0mLC_VHE_test_v6\u001b[0m \u001b[1;32mimport\u001b[0m \u001b[1;33m*\u001b[0m\u001b[1;33m\u001b[0m\u001b[0m\n\u001b[0m\u001b[0;32m      2\u001b[0m \u001b[1;32mimport\u001b[0m \u001b[0mcollections\u001b[0m\u001b[1;33m\u001b[0m\u001b[0m\n\u001b[0;32m      3\u001b[0m \u001b[1;32mfrom\u001b[0m \u001b[0muncertainties\u001b[0m \u001b[1;32mimport\u001b[0m \u001b[0munumpy\u001b[0m\u001b[1;33m\u001b[0m\u001b[0m\n",
        "\u001b[1;32mC:\\Users\\Ian\\Documents\\NASA\\New stuff\\VHEObserverTools-master\\LC_VHE_test_v6.py\u001b[0m in \u001b[0;36m<module>\u001b[1;34m()\u001b[0m\n\u001b[1;32m----> 1\u001b[1;33m \u001b[1;32mimport\u001b[0m \u001b[0masciitable\u001b[0m\u001b[1;33m\u001b[0m\u001b[0m\n\u001b[0m\u001b[0;32m      2\u001b[0m \u001b[1;32mimport\u001b[0m \u001b[0mnumpy\u001b[0m\u001b[1;33m\u001b[0m\u001b[0m\n\u001b[0;32m      3\u001b[0m \u001b[1;32mimport\u001b[0m \u001b[0mmatplotlib\u001b[0m \u001b[1;32mas\u001b[0m \u001b[0mmpt\u001b[0m\u001b[1;33m\u001b[0m\u001b[0m\n\u001b[0;32m      4\u001b[0m \u001b[1;32mfrom\u001b[0m \u001b[0mmatplotlib\u001b[0m \u001b[1;32mimport\u001b[0m \u001b[0mpyplot\u001b[0m\u001b[1;33m\u001b[0m\u001b[0m\n\u001b[0;32m      5\u001b[0m \u001b[1;32mfrom\u001b[0m \u001b[0mVOT\u001b[0m \u001b[1;32mimport\u001b[0m \u001b[1;33m*\u001b[0m\u001b[1;33m\u001b[0m\u001b[0m\n",
        "\u001b[1;31mImportError\u001b[0m: No module named asciitable"
       ]
      }
     ],
     "prompt_number": 5
    },
    {
     "cell_type": "code",
     "collapsed": false,
     "input": [
      "GRB080916C = take_data(Burst = '080916009', redshift = 4.35, eblModel = 'Dominguez', instrument = 'VERITAS2', zenith = 15)"
     ],
     "language": "python",
     "metadata": {},
     "outputs": [
      {
       "ename": "NameError",
       "evalue": "name 'take_data' is not defined",
       "output_type": "pyerr",
       "traceback": [
        "\u001b[1;31m---------------------------------------------------------------------------\u001b[0m\n\u001b[1;31mNameError\u001b[0m                                 Traceback (most recent call last)",
        "\u001b[1;32m<ipython-input-4-4471a5c3cbf5>\u001b[0m in \u001b[0;36m<module>\u001b[1;34m()\u001b[0m\n\u001b[1;32m----> 1\u001b[1;33m \u001b[0mGRB080916C\u001b[0m \u001b[1;33m=\u001b[0m \u001b[0mtake_data\u001b[0m\u001b[1;33m(\u001b[0m\u001b[0mBurst\u001b[0m \u001b[1;33m=\u001b[0m \u001b[1;34m'080916009'\u001b[0m\u001b[1;33m,\u001b[0m \u001b[0mredshift\u001b[0m \u001b[1;33m=\u001b[0m \u001b[1;36m4.35\u001b[0m\u001b[1;33m,\u001b[0m \u001b[0meblModel\u001b[0m \u001b[1;33m=\u001b[0m \u001b[1;34m'Dominguez'\u001b[0m\u001b[1;33m,\u001b[0m \u001b[0minstrument\u001b[0m \u001b[1;33m=\u001b[0m \u001b[1;34m'VERITAS2'\u001b[0m\u001b[1;33m,\u001b[0m \u001b[0mzenith\u001b[0m \u001b[1;33m=\u001b[0m \u001b[1;36m15\u001b[0m\u001b[1;33m)\u001b[0m\u001b[1;33m\u001b[0m\u001b[0m\n\u001b[0m",
        "\u001b[1;31mNameError\u001b[0m: name 'take_data' is not defined"
       ]
      }
     ],
     "prompt_number": 4
    },
    {
     "cell_type": "code",
     "collapsed": false,
     "input": [
      "GRB130427A = take_data(Burst = '130427324', redshift = 0.34, eblModel = 'Dominguez', instrument = 'VERITAS', zenith = 20)"
     ],
     "language": "python",
     "metadata": {},
     "outputs": [
      {
       "output_type": "stream",
       "stream": "stderr",
       "text": [
        "WARNING - Spectrum starts below minimum energy in EBL table.\n"
       ]
      },
      {
       "output_type": "stream",
       "stream": "stderr",
       "text": [
        "WARNING - Spectrum continues beyond maximum energy in EBL table.\n"
       ]
      },
      {
       "output_type": "stream",
       "stream": "stderr",
       "text": [
        "WARNING - Using 659.0 counts/hr as the rate from the Crab Nebula.\n"
       ]
      },
      {
       "output_type": "stream",
       "stream": "stderr",
       "text": [
        "WARNING - Time to detection assumes a Crab Nebula Spectrum.\n"
       ]
      },
      {
       "output_type": "stream",
       "stream": "stderr",
       "text": [
        "INFO - Using Effective_Areas/VERITAS/ea_Nov2010_na_ATM21_vegasv240rc1_7sam_050off_soft-1.summary.csv\n"
       ]
      },
      {
       "output_type": "stream",
       "stream": "stderr",
       "text": [
        "INFO - Using EffectiveArea_Azimuth_0_Zenith_20_Noise_4.07\n"
       ]
      },
      {
       "output_type": "stream",
       "stream": "stderr",
       "text": [
        "INFO - Safe energy range: 177.83 to 25,118.86 GeV\n"
       ]
      },
      {
       "output_type": "stream",
       "stream": "stderr",
       "text": [
        "INFO - dNdE at 1 GeV: 6.09e-05 s^-1 cm^-2 GeV^-1\n"
       ]
      },
      {
       "output_type": "stream",
       "stream": "stderr",
       "text": [
        "INFO - dNdE at 400 GeV: 2.28e-11 s^-1 cm^-2 GeV^-1\n"
       ]
      },
      {
       "output_type": "stream",
       "stream": "stderr",
       "text": [
        "INFO - dNdE at 1 TeV: 2.37e-12 s^-1 cm^-2 GeV^-1\n"
       ]
      },
      {
       "output_type": "stream",
       "stream": "stderr",
       "text": [
        "INFO - tau at min safe E: 0.39\n"
       ]
      },
      {
       "output_type": "stream",
       "stream": "stderr",
       "text": [
        "INFO - tau at max safe E: 161.84\n"
       ]
      },
      {
       "output_type": "stream",
       "stream": "stderr",
       "text": [
        "INFO - Predicted counts/hour: 1.20e+04\n"
       ]
      },
      {
       "output_type": "stream",
       "stream": "stderr",
       "text": [
        "INFO - This is approximately 1,828.1833% of the Crab Nebula's Flux\n"
       ]
      },
      {
       "output_type": "stream",
       "stream": "stderr",
       "text": [
        "INFO - This will take approximately 0.0107 hours to detect at a 5 sigma level\n"
       ]
      },
      {
       "output_type": "stream",
       "stream": "stderr",
       "text": [
        "WARNING - Spectrum starts below minimum energy in EBL table.\n"
       ]
      },
      {
       "output_type": "stream",
       "stream": "stderr",
       "text": [
        "WARNING - Spectrum continues beyond maximum energy in EBL table.\n"
       ]
      },
      {
       "output_type": "stream",
       "stream": "stderr",
       "text": [
        "WARNING - Using 659.0 counts/hr as the rate from the Crab Nebula.\n"
       ]
      },
      {
       "output_type": "stream",
       "stream": "stderr",
       "text": [
        "WARNING - Time to detection assumes a Crab Nebula Spectrum.\n"
       ]
      },
      {
       "output_type": "stream",
       "stream": "stderr",
       "text": [
        "INFO - Using Effective_Areas/VERITAS/ea_Nov2010_na_ATM21_vegasv240rc1_7sam_050off_soft-1.summary.csv\n"
       ]
      },
      {
       "output_type": "stream",
       "stream": "stderr",
       "text": [
        "INFO - Using EffectiveArea_Azimuth_0_Zenith_20_Noise_4.07\n"
       ]
      },
      {
       "output_type": "stream",
       "stream": "stderr",
       "text": [
        "INFO - Safe energy range: 177.83 to 25,118.86 GeV\n"
       ]
      },
      {
       "output_type": "stream",
       "stream": "stderr",
       "text": [
        "INFO - dNdE at 1 GeV: 1.60e-04 s^-1 cm^-2 GeV^-1\n"
       ]
      },
      {
       "output_type": "stream",
       "stream": "stderr",
       "text": [
        "INFO - dNdE at 400 GeV: 7.00e-10 s^-1 cm^-2 GeV^-1\n"
       ]
      },
      {
       "output_type": "stream",
       "stream": "stderr",
       "text": [
        "INFO - dNdE at 1 TeV: 1.06e-10 s^-1 cm^-2 GeV^-1\n"
       ]
      },
      {
       "output_type": "stream",
       "stream": "stderr",
       "text": [
        "INFO - tau at min safe E: 0.39\n"
       ]
      },
      {
       "output_type": "stream",
       "stream": "stderr",
       "text": [
        "INFO - tau at max safe E: 161.84\n"
       ]
      },
      {
       "output_type": "stream",
       "stream": "stderr",
       "text": [
        "INFO - Predicted counts/hour: 3.12e+05\n"
       ]
      },
      {
       "output_type": "stream",
       "stream": "stderr",
       "text": [
        "INFO - This is approximately 47,394.3004% of the Crab Nebula's Flux\n"
       ]
      },
      {
       "output_type": "stream",
       "stream": "stderr",
       "text": [
        "INFO - This will take approximately 0.0107 hours to detect at a 5 sigma level\n"
       ]
      },
      {
       "output_type": "stream",
       "stream": "stderr",
       "text": [
        "WARNING - Spectrum starts below minimum energy in EBL table.\n"
       ]
      },
      {
       "output_type": "stream",
       "stream": "stderr",
       "text": [
        "WARNING - Spectrum continues beyond maximum energy in EBL table.\n"
       ]
      },
      {
       "output_type": "stream",
       "stream": "stderr",
       "text": [
        "WARNING - Using 659.0 counts/hr as the rate from the Crab Nebula.\n"
       ]
      },
      {
       "output_type": "stream",
       "stream": "stderr",
       "text": [
        "WARNING - Time to detection assumes a Crab Nebula Spectrum.\n"
       ]
      },
      {
       "output_type": "stream",
       "stream": "stderr",
       "text": [
        "INFO - Using Effective_Areas/VERITAS/ea_Nov2010_na_ATM21_vegasv240rc1_7sam_050off_soft-1.summary.csv\n"
       ]
      },
      {
       "output_type": "stream",
       "stream": "stderr",
       "text": [
        "INFO - Using EffectiveArea_Azimuth_0_Zenith_20_Noise_4.07\n"
       ]
      },
      {
       "output_type": "stream",
       "stream": "stderr",
       "text": [
        "INFO - Safe energy range: 177.83 to 25,118.86 GeV\n"
       ]
      },
      {
       "output_type": "stream",
       "stream": "stderr",
       "text": [
        "INFO - dNdE at 1 GeV: 8.12e-05 s^-1 cm^-2 GeV^-1\n"
       ]
      },
      {
       "output_type": "stream",
       "stream": "stderr",
       "text": [
        "INFO - dNdE at 400 GeV: 1.17e-09 s^-1 cm^-2 GeV^-1\n"
       ]
      },
      {
       "output_type": "stream",
       "stream": "stderr",
       "text": [
        "INFO - dNdE at 1 TeV: 2.13e-10 s^-1 cm^-2 GeV^-1\n"
       ]
      },
      {
       "output_type": "stream",
       "stream": "stderr",
       "text": [
        "INFO - tau at min safe E: 0.39\n"
       ]
      },
      {
       "output_type": "stream",
       "stream": "stderr",
       "text": [
        "INFO - tau at max safe E: 161.84\n"
       ]
      },
      {
       "output_type": "stream",
       "stream": "stderr",
       "text": [
        "INFO - Predicted counts/hour: 4.86e+05\n"
       ]
      },
      {
       "output_type": "stream",
       "stream": "stderr",
       "text": [
        "INFO - This is approximately 73,733.0215% of the Crab Nebula's Flux\n"
       ]
      },
      {
       "output_type": "stream",
       "stream": "stderr",
       "text": [
        "INFO - This will take approximately 0.0107 hours to detect at a 5 sigma level\n"
       ]
      },
      {
       "output_type": "stream",
       "stream": "stderr",
       "text": [
        "WARNING - Spectrum starts below minimum energy in EBL table.\n"
       ]
      },
      {
       "output_type": "stream",
       "stream": "stderr",
       "text": [
        "WARNING - Spectrum continues beyond maximum energy in EBL table.\n"
       ]
      },
      {
       "output_type": "stream",
       "stream": "stderr",
       "text": [
        "WARNING - Using 659.0 counts/hr as the rate from the Crab Nebula.\n"
       ]
      },
      {
       "output_type": "stream",
       "stream": "stderr",
       "text": [
        "WARNING - Time to detection assumes a Crab Nebula Spectrum.\n"
       ]
      },
      {
       "output_type": "stream",
       "stream": "stderr",
       "text": [
        "INFO - Using Effective_Areas/VERITAS/ea_Nov2010_na_ATM21_vegasv240rc1_7sam_050off_soft-1.summary.csv\n"
       ]
      },
      {
       "output_type": "stream",
       "stream": "stderr",
       "text": [
        "INFO - Using EffectiveArea_Azimuth_0_Zenith_20_Noise_4.07\n"
       ]
      },
      {
       "output_type": "stream",
       "stream": "stderr",
       "text": [
        "INFO - Safe energy range: 177.83 to 25,118.86 GeV\n"
       ]
      },
      {
       "output_type": "stream",
       "stream": "stderr",
       "text": [
        "INFO - dNdE at 1 GeV: 4.18e-05 s^-1 cm^-2 GeV^-1\n"
       ]
      },
      {
       "output_type": "stream",
       "stream": "stderr",
       "text": [
        "INFO - dNdE at 400 GeV: 3.97e-10 s^-1 cm^-2 GeV^-1\n"
       ]
      },
      {
       "output_type": "stream",
       "stream": "stderr",
       "text": [
        "INFO - dNdE at 1 TeV: 6.78e-11 s^-1 cm^-2 GeV^-1\n"
       ]
      },
      {
       "output_type": "stream",
       "stream": "stderr",
       "text": [
        "INFO - tau at min safe E: 0.39\n"
       ]
      },
      {
       "output_type": "stream",
       "stream": "stderr",
       "text": [
        "INFO - tau at max safe E: 161.84\n"
       ]
      },
      {
       "output_type": "stream",
       "stream": "stderr",
       "text": [
        "INFO - Predicted counts/hour: 1.69e+05\n"
       ]
      },
      {
       "output_type": "stream",
       "stream": "stderr",
       "text": [
        "INFO - This is approximately 25,617.4865% of the Crab Nebula's Flux\n"
       ]
      },
      {
       "output_type": "stream",
       "stream": "stderr",
       "text": [
        "INFO - This will take approximately 0.0107 hours to detect at a 5 sigma level\n"
       ]
      },
      {
       "output_type": "stream",
       "stream": "stderr",
       "text": [
        "WARNING - Spectrum starts below minimum energy in EBL table.\n"
       ]
      },
      {
       "output_type": "stream",
       "stream": "stderr",
       "text": [
        "WARNING - Spectrum continues beyond maximum energy in EBL table.\n"
       ]
      },
      {
       "output_type": "stream",
       "stream": "stderr",
       "text": [
        "WARNING - Using 659.0 counts/hr as the rate from the Crab Nebula.\n"
       ]
      },
      {
       "output_type": "stream",
       "stream": "stderr",
       "text": [
        "WARNING - Time to detection assumes a Crab Nebula Spectrum.\n"
       ]
      },
      {
       "output_type": "stream",
       "stream": "stderr",
       "text": [
        "INFO - Using Effective_Areas/VERITAS/ea_Nov2010_na_ATM21_vegasv240rc1_7sam_050off_soft-1.summary.csv\n"
       ]
      },
      {
       "output_type": "stream",
       "stream": "stderr",
       "text": [
        "INFO - Using EffectiveArea_Azimuth_0_Zenith_20_Noise_4.07\n"
       ]
      },
      {
       "output_type": "stream",
       "stream": "stderr",
       "text": [
        "INFO - Safe energy range: 177.83 to 25,118.86 GeV\n"
       ]
      },
      {
       "output_type": "stream",
       "stream": "stderr",
       "text": [
        "INFO - dNdE at 1 GeV: 2.38e-05 s^-1 cm^-2 GeV^-1\n"
       ]
      },
      {
       "output_type": "stream",
       "stream": "stderr",
       "text": [
        "INFO - dNdE at 400 GeV: 1.40e-10 s^-1 cm^-2 GeV^-1\n"
       ]
      },
      {
       "output_type": "stream",
       "stream": "stderr",
       "text": [
        "INFO - dNdE at 1 TeV: 2.22e-11 s^-1 cm^-2 GeV^-1\n"
       ]
      },
      {
       "output_type": "stream",
       "stream": "stderr",
       "text": [
        "INFO - tau at min safe E: 0.39\n"
       ]
      },
      {
       "output_type": "stream",
       "stream": "stderr",
       "text": [
        "INFO - tau at max safe E: 161.84\n"
       ]
      },
      {
       "output_type": "stream",
       "stream": "stderr",
       "text": [
        "INFO - Predicted counts/hour: 6.14e+04\n"
       ]
      },
      {
       "output_type": "stream",
       "stream": "stderr",
       "text": [
        "INFO - This is approximately 9,313.4678% of the Crab Nebula's Flux\n"
       ]
      },
      {
       "output_type": "stream",
       "stream": "stderr",
       "text": [
        "INFO - This will take approximately 0.0107 hours to detect at a 5 sigma level\n"
       ]
      },
      {
       "output_type": "stream",
       "stream": "stderr",
       "text": [
        "WARNING - Spectrum starts below minimum energy in EBL table.\n"
       ]
      },
      {
       "output_type": "stream",
       "stream": "stderr",
       "text": [
        "WARNING - Spectrum continues beyond maximum energy in EBL table.\n"
       ]
      },
      {
       "output_type": "stream",
       "stream": "stderr",
       "text": [
        "WARNING - Using 659.0 counts/hr as the rate from the Crab Nebula.\n"
       ]
      },
      {
       "output_type": "stream",
       "stream": "stderr",
       "text": [
        "WARNING - Time to detection assumes a Crab Nebula Spectrum.\n"
       ]
      },
      {
       "output_type": "stream",
       "stream": "stderr",
       "text": [
        "INFO - Using Effective_Areas/VERITAS/ea_Nov2010_na_ATM21_vegasv240rc1_7sam_050off_soft-1.summary.csv\n"
       ]
      },
      {
       "output_type": "stream",
       "stream": "stderr",
       "text": [
        "INFO - Using EffectiveArea_Azimuth_0_Zenith_20_Noise_4.07\n"
       ]
      },
      {
       "output_type": "stream",
       "stream": "stderr",
       "text": [
        "INFO - Safe energy range: 177.83 to 25,118.86 GeV\n"
       ]
      },
      {
       "output_type": "stream",
       "stream": "stderr",
       "text": [
        "INFO - dNdE at 1 GeV: 1.91e-05 s^-1 cm^-2 GeV^-1\n"
       ]
      },
      {
       "output_type": "stream",
       "stream": "stderr",
       "text": [
        "INFO - dNdE at 400 GeV: 4.07e-11 s^-1 cm^-2 GeV^-1\n"
       ]
      },
      {
       "output_type": "stream",
       "stream": "stderr",
       "text": [
        "INFO - dNdE at 1 TeV: 5.52e-12 s^-1 cm^-2 GeV^-1\n"
       ]
      },
      {
       "output_type": "stream",
       "stream": "stderr",
       "text": [
        "INFO - tau at min safe E: 0.39\n"
       ]
      },
      {
       "output_type": "stream",
       "stream": "stderr",
       "text": [
        "INFO - tau at max safe E: 161.84\n"
       ]
      },
      {
       "output_type": "stream",
       "stream": "stderr",
       "text": [
        "INFO - Predicted counts/hour: 1.90e+04\n"
       ]
      },
      {
       "output_type": "stream",
       "stream": "stderr",
       "text": [
        "INFO - This is approximately 2,888.5605% of the Crab Nebula's Flux\n"
       ]
      },
      {
       "output_type": "stream",
       "stream": "stderr",
       "text": [
        "INFO - This will take approximately 0.0107 hours to detect at a 5 sigma level\n"
       ]
      },
      {
       "output_type": "stream",
       "stream": "stderr",
       "text": [
        "WARNING - Spectrum starts below minimum energy in EBL table.\n"
       ]
      },
      {
       "output_type": "stream",
       "stream": "stderr",
       "text": [
        "WARNING - Spectrum continues beyond maximum energy in EBL table.\n"
       ]
      },
      {
       "output_type": "stream",
       "stream": "stderr",
       "text": [
        "WARNING - Using 659.0 counts/hr as the rate from the Crab Nebula.\n"
       ]
      },
      {
       "output_type": "stream",
       "stream": "stderr",
       "text": [
        "WARNING - Time to detection assumes a Crab Nebula Spectrum.\n"
       ]
      },
      {
       "output_type": "stream",
       "stream": "stderr",
       "text": [
        "INFO - Using Effective_Areas/VERITAS/ea_Nov2010_na_ATM21_vegasv240rc1_7sam_050off_soft-1.summary.csv\n"
       ]
      },
      {
       "output_type": "stream",
       "stream": "stderr",
       "text": [
        "INFO - Using EffectiveArea_Azimuth_0_Zenith_20_Noise_4.07\n"
       ]
      },
      {
       "output_type": "stream",
       "stream": "stderr",
       "text": [
        "INFO - Safe energy range: 177.83 to 25,118.86 GeV\n"
       ]
      },
      {
       "output_type": "stream",
       "stream": "stderr",
       "text": [
        "INFO - dNdE at 1 GeV: 1.94e-05 s^-1 cm^-2 GeV^-1\n"
       ]
      },
      {
       "output_type": "stream",
       "stream": "stderr",
       "text": [
        "INFO - dNdE at 400 GeV: 6.64e-11 s^-1 cm^-2 GeV^-1\n"
       ]
      },
      {
       "output_type": "stream",
       "stream": "stderr",
       "text": [
        "INFO - dNdE at 1 TeV: 9.70e-12 s^-1 cm^-2 GeV^-1\n"
       ]
      },
      {
       "output_type": "stream",
       "stream": "stderr",
       "text": [
        "INFO - tau at min safe E: 0.39\n"
       ]
      },
      {
       "output_type": "stream",
       "stream": "stderr",
       "text": [
        "INFO - tau at max safe E: 161.84\n"
       ]
      },
      {
       "output_type": "stream",
       "stream": "stderr",
       "text": [
        "INFO - Predicted counts/hour: 3.01e+04\n"
       ]
      },
      {
       "output_type": "stream",
       "stream": "stderr",
       "text": [
        "INFO - This is approximately 4,571.5421% of the Crab Nebula's Flux\n"
       ]
      },
      {
       "output_type": "stream",
       "stream": "stderr",
       "text": [
        "INFO - This will take approximately 0.0107 hours to detect at a 5 sigma level\n"
       ]
      },
      {
       "output_type": "stream",
       "stream": "stderr",
       "text": [
        "WARNING - Spectrum starts below minimum energy in EBL table.\n"
       ]
      },
      {
       "output_type": "stream",
       "stream": "stderr",
       "text": [
        "WARNING - Spectrum continues beyond maximum energy in EBL table.\n"
       ]
      },
      {
       "output_type": "stream",
       "stream": "stderr",
       "text": [
        "WARNING - Using 659.0 counts/hr as the rate from the Crab Nebula.\n"
       ]
      },
      {
       "output_type": "stream",
       "stream": "stderr",
       "text": [
        "WARNING - Time to detection assumes a Crab Nebula Spectrum.\n"
       ]
      },
      {
       "output_type": "stream",
       "stream": "stderr",
       "text": [
        "INFO - Using Effective_Areas/VERITAS/ea_Nov2010_na_ATM21_vegasv240rc1_7sam_050off_soft-1.summary.csv\n"
       ]
      },
      {
       "output_type": "stream",
       "stream": "stderr",
       "text": [
        "INFO - Using EffectiveArea_Azimuth_0_Zenith_20_Noise_4.07\n"
       ]
      },
      {
       "output_type": "stream",
       "stream": "stderr",
       "text": [
        "INFO - Safe energy range: 177.83 to 25,118.86 GeV\n"
       ]
      },
      {
       "output_type": "stream",
       "stream": "stderr",
       "text": [
        "INFO - dNdE at 1 GeV: 5.14e-07 s^-1 cm^-2 GeV^-1\n"
       ]
      },
      {
       "output_type": "stream",
       "stream": "stderr",
       "text": [
        "INFO - dNdE at 400 GeV: 3.62e-12 s^-1 cm^-2 GeV^-1\n"
       ]
      },
      {
       "output_type": "stream",
       "stream": "stderr",
       "text": [
        "INFO - dNdE at 1 TeV: 5.91e-13 s^-1 cm^-2 GeV^-1\n"
       ]
      },
      {
       "output_type": "stream",
       "stream": "stderr",
       "text": [
        "INFO - tau at min safe E: 0.39\n"
       ]
      },
      {
       "output_type": "stream",
       "stream": "stderr",
       "text": [
        "INFO - tau at max safe E: 161.84\n"
       ]
      },
      {
       "output_type": "stream",
       "stream": "stderr",
       "text": [
        "INFO - Predicted counts/hour: 1.57e+03\n"
       ]
      },
      {
       "output_type": "stream",
       "stream": "stderr",
       "text": [
        "INFO - This is approximately 238.1086% of the Crab Nebula's Flux\n"
       ]
      },
      {
       "output_type": "stream",
       "stream": "stderr",
       "text": [
        "INFO - This will take approximately 0.0142 hours to detect at a 5 sigma level\n"
       ]
      },
      {
       "output_type": "stream",
       "stream": "stderr",
       "text": [
        "WARNING - Spectrum starts below minimum energy in EBL table.\n"
       ]
      },
      {
       "output_type": "stream",
       "stream": "stderr",
       "text": [
        "WARNING - Spectrum continues beyond maximum energy in EBL table.\n"
       ]
      },
      {
       "output_type": "stream",
       "stream": "stderr",
       "text": [
        "WARNING - Using 659.0 counts/hr as the rate from the Crab Nebula.\n"
       ]
      },
      {
       "output_type": "stream",
       "stream": "stderr",
       "text": [
        "WARNING - Time to detection assumes a Crab Nebula Spectrum.\n"
       ]
      },
      {
       "output_type": "stream",
       "stream": "stderr",
       "text": [
        "INFO - Using Effective_Areas/VERITAS/ea_Nov2010_na_ATM21_vegasv240rc1_7sam_050off_soft-1.summary.csv\n"
       ]
      },
      {
       "output_type": "stream",
       "stream": "stderr",
       "text": [
        "INFO - Using EffectiveArea_Azimuth_0_Zenith_20_Noise_4.07\n"
       ]
      },
      {
       "output_type": "stream",
       "stream": "stderr",
       "text": [
        "INFO - Safe energy range: 177.83 to 25,118.86 GeV\n"
       ]
      },
      {
       "output_type": "stream",
       "stream": "stderr",
       "text": [
        "INFO - dNdE at 1 GeV: 1.17e-09 s^-1 cm^-2 GeV^-1\n"
       ]
      },
      {
       "output_type": "stream",
       "stream": "stderr",
       "text": [
        "INFO - dNdE at 400 GeV: 7.31e-15 s^-1 cm^-2 GeV^-1\n"
       ]
      },
      {
       "output_type": "stream",
       "stream": "stderr",
       "text": [
        "INFO - dNdE at 1 TeV: 1.17e-15 s^-1 cm^-2 GeV^-1\n"
       ]
      },
      {
       "output_type": "stream",
       "stream": "stderr",
       "text": [
        "INFO - tau at min safe E: 0.39\n"
       ]
      },
      {
       "output_type": "stream",
       "stream": "stderr",
       "text": [
        "INFO - tau at max safe E: 161.84\n"
       ]
      },
      {
       "output_type": "stream",
       "stream": "stderr",
       "text": [
        "INFO - Predicted counts/hour: 3.19e+00\n"
       ]
      },
      {
       "output_type": "stream",
       "stream": "stderr",
       "text": [
        "INFO - This is approximately 0.4840% of the Crab Nebula's Flux\n"
       ]
      },
      {
       "output_type": "stream",
       "stream": "stderr",
       "text": [
        "INFO - This will take approximately 103.8836 hours to detect at a 5 sigma level\n"
       ]
      },
      {
       "output_type": "stream",
       "stream": "stderr",
       "text": [
        "WARNING - Spectrum starts below minimum energy in EBL table.\n"
       ]
      },
      {
       "output_type": "stream",
       "stream": "stderr",
       "text": [
        "WARNING - Spectrum continues beyond maximum energy in EBL table.\n"
       ]
      },
      {
       "output_type": "stream",
       "stream": "stderr",
       "text": [
        "WARNING - Using 659.0 counts/hr as the rate from the Crab Nebula.\n"
       ]
      },
      {
       "output_type": "stream",
       "stream": "stderr",
       "text": [
        "WARNING - Time to detection assumes a Crab Nebula Spectrum.\n"
       ]
      },
      {
       "output_type": "stream",
       "stream": "stderr",
       "text": [
        "INFO - Using Effective_Areas/VERITAS/ea_Nov2010_na_ATM21_vegasv240rc1_7sam_050off_soft-1.summary.csv\n"
       ]
      },
      {
       "output_type": "stream",
       "stream": "stderr",
       "text": [
        "INFO - Using EffectiveArea_Azimuth_0_Zenith_20_Noise_4.07\n"
       ]
      },
      {
       "output_type": "stream",
       "stream": "stderr",
       "text": [
        "INFO - Safe energy range: 177.83 to 25,118.86 GeV\n"
       ]
      },
      {
       "output_type": "stream",
       "stream": "stderr",
       "text": [
        "INFO - dNdE at 1 GeV: 3.78e-07 s^-1 cm^-2 GeV^-1\n"
       ]
      },
      {
       "output_type": "stream",
       "stream": "stderr",
       "text": [
        "INFO - dNdE at 400 GeV: 2.66e-12 s^-1 cm^-2 GeV^-1\n"
       ]
      },
      {
       "output_type": "stream",
       "stream": "stderr",
       "text": [
        "INFO - dNdE at 1 TeV: 4.34e-13 s^-1 cm^-2 GeV^-1\n"
       ]
      },
      {
       "output_type": "stream",
       "stream": "stderr",
       "text": [
        "INFO - tau at min safe E: 0.39\n"
       ]
      },
      {
       "output_type": "stream",
       "stream": "stderr",
       "text": [
        "INFO - tau at max safe E: 161.84\n"
       ]
      },
      {
       "output_type": "stream",
       "stream": "stderr",
       "text": [
        "INFO - Predicted counts/hour: 1.15e+03\n"
       ]
      },
      {
       "output_type": "stream",
       "stream": "stderr",
       "text": [
        "INFO - This is approximately 174.9737% of the Crab Nebula's Flux\n"
       ]
      },
      {
       "output_type": "stream",
       "stream": "stderr",
       "text": [
        "INFO - This will take approximately 0.0196 hours to detect at a 5 sigma level\n"
       ]
      },
      {
       "output_type": "stream",
       "stream": "stderr",
       "text": [
        "WARNING - Spectrum starts below minimum energy in EBL table.\n"
       ]
      },
      {
       "output_type": "stream",
       "stream": "stderr",
       "text": [
        "WARNING - Spectrum continues beyond maximum energy in EBL table.\n"
       ]
      },
      {
       "output_type": "stream",
       "stream": "stderr",
       "text": [
        "WARNING - Using 659.0 counts/hr as the rate from the Crab Nebula.\n"
       ]
      },
      {
       "output_type": "stream",
       "stream": "stderr",
       "text": [
        "WARNING - Time to detection assumes a Crab Nebula Spectrum.\n"
       ]
      },
      {
       "output_type": "stream",
       "stream": "stderr",
       "text": [
        "INFO - Using Effective_Areas/VERITAS/ea_Nov2010_na_ATM21_vegasv240rc1_7sam_050off_soft-1.summary.csv\n"
       ]
      },
      {
       "output_type": "stream",
       "stream": "stderr",
       "text": [
        "INFO - Using EffectiveArea_Azimuth_0_Zenith_20_Noise_4.07\n"
       ]
      },
      {
       "output_type": "stream",
       "stream": "stderr",
       "text": [
        "INFO - Safe energy range: 177.83 to 25,118.86 GeV\n"
       ]
      },
      {
       "output_type": "stream",
       "stream": "stderr",
       "text": [
        "INFO - dNdE at 1 GeV: 8.34e-05 s^-1 cm^-2 GeV^-1\n"
       ]
      },
      {
       "output_type": "stream",
       "stream": "stderr",
       "text": [
        "INFO - dNdE at 400 GeV: 3.12e-11 s^-1 cm^-2 GeV^-1\n"
       ]
      },
      {
       "output_type": "stream",
       "stream": "stderr",
       "text": [
        "INFO - dNdE at 1 TeV: 3.24e-12 s^-1 cm^-2 GeV^-1\n"
       ]
      },
      {
       "output_type": "stream",
       "stream": "stderr",
       "text": [
        "INFO - tau at min safe E: 0.39\n"
       ]
      },
      {
       "output_type": "stream",
       "stream": "stderr",
       "text": [
        "INFO - tau at max safe E: 161.84\n"
       ]
      },
      {
       "output_type": "stream",
       "stream": "stderr",
       "text": [
        "INFO - Predicted counts/hour: 1.65e+04\n"
       ]
      },
      {
       "output_type": "stream",
       "stream": "stderr",
       "text": [
        "INFO - This is approximately 2,503.9475% of the Crab Nebula's Flux\n"
       ]
      },
      {
       "output_type": "stream",
       "stream": "stderr",
       "text": [
        "INFO - This will take approximately 0.0107 hours to detect at a 5 sigma level\n"
       ]
      },
      {
       "output_type": "stream",
       "stream": "stderr",
       "text": [
        "WARNING - Spectrum starts below minimum energy in EBL table.\n"
       ]
      },
      {
       "output_type": "stream",
       "stream": "stderr",
       "text": [
        "WARNING - Spectrum continues beyond maximum energy in EBL table.\n"
       ]
      },
      {
       "output_type": "stream",
       "stream": "stderr",
       "text": [
        "WARNING - Using 659.0 counts/hr as the rate from the Crab Nebula.\n"
       ]
      },
      {
       "output_type": "stream",
       "stream": "stderr",
       "text": [
        "WARNING - Time to detection assumes a Crab Nebula Spectrum.\n"
       ]
      },
      {
       "output_type": "stream",
       "stream": "stderr",
       "text": [
        "INFO - Using Effective_Areas/VERITAS/ea_Nov2010_na_ATM21_vegasv240rc1_7sam_050off_soft-1.summary.csv\n"
       ]
      },
      {
       "output_type": "stream",
       "stream": "stderr",
       "text": [
        "INFO - Using EffectiveArea_Azimuth_0_Zenith_20_Noise_4.07\n"
       ]
      },
      {
       "output_type": "stream",
       "stream": "stderr",
       "text": [
        "INFO - Safe energy range: 177.83 to 25,118.86 GeV\n"
       ]
      },
      {
       "output_type": "stream",
       "stream": "stderr",
       "text": [
        "INFO - dNdE at 1 GeV: 1.84e-04 s^-1 cm^-2 GeV^-1\n"
       ]
      },
      {
       "output_type": "stream",
       "stream": "stderr",
       "text": [
        "INFO - dNdE at 400 GeV: 8.02e-10 s^-1 cm^-2 GeV^-1\n"
       ]
      },
      {
       "output_type": "stream",
       "stream": "stderr",
       "text": [
        "INFO - dNdE at 1 TeV: 1.21e-10 s^-1 cm^-2 GeV^-1\n"
       ]
      },
      {
       "output_type": "stream",
       "stream": "stderr",
       "text": [
        "INFO - tau at min safe E: 0.39\n"
       ]
      },
      {
       "output_type": "stream",
       "stream": "stderr",
       "text": [
        "INFO - tau at max safe E: 161.84\n"
       ]
      },
      {
       "output_type": "stream",
       "stream": "stderr",
       "text": [
        "INFO - Predicted counts/hour: 3.58e+05\n"
       ]
      },
      {
       "output_type": "stream",
       "stream": "stderr",
       "text": [
        "INFO - This is approximately 54,311.3064% of the Crab Nebula's Flux\n"
       ]
      },
      {
       "output_type": "stream",
       "stream": "stderr",
       "text": [
        "INFO - This will take approximately 0.0107 hours to detect at a 5 sigma level\n"
       ]
      },
      {
       "output_type": "stream",
       "stream": "stderr",
       "text": [
        "WARNING - Spectrum starts below minimum energy in EBL table.\n"
       ]
      },
      {
       "output_type": "stream",
       "stream": "stderr",
       "text": [
        "WARNING - Spectrum continues beyond maximum energy in EBL table.\n"
       ]
      },
      {
       "output_type": "stream",
       "stream": "stderr",
       "text": [
        "WARNING - Using 659.0 counts/hr as the rate from the Crab Nebula.\n"
       ]
      },
      {
       "output_type": "stream",
       "stream": "stderr",
       "text": [
        "WARNING - Time to detection assumes a Crab Nebula Spectrum.\n"
       ]
      },
      {
       "output_type": "stream",
       "stream": "stderr",
       "text": [
        "INFO - Using Effective_Areas/VERITAS/ea_Nov2010_na_ATM21_vegasv240rc1_7sam_050off_soft-1.summary.csv\n"
       ]
      },
      {
       "output_type": "stream",
       "stream": "stderr",
       "text": [
        "INFO - Using EffectiveArea_Azimuth_0_Zenith_20_Noise_4.07\n"
       ]
      },
      {
       "output_type": "stream",
       "stream": "stderr",
       "text": [
        "INFO - Safe energy range: 177.83 to 25,118.86 GeV\n"
       ]
      },
      {
       "output_type": "stream",
       "stream": "stderr",
       "text": [
        "INFO - dNdE at 1 GeV: 9.11e-05 s^-1 cm^-2 GeV^-1\n"
       ]
      },
      {
       "output_type": "stream",
       "stream": "stderr",
       "text": [
        "INFO - dNdE at 400 GeV: 1.32e-09 s^-1 cm^-2 GeV^-1\n"
       ]
      },
      {
       "output_type": "stream",
       "stream": "stderr",
       "text": [
        "INFO - dNdE at 1 TeV: 2.40e-10 s^-1 cm^-2 GeV^-1\n"
       ]
      },
      {
       "output_type": "stream",
       "stream": "stderr",
       "text": [
        "INFO - tau at min safe E: 0.39\n"
       ]
      },
      {
       "output_type": "stream",
       "stream": "stderr",
       "text": [
        "INFO - tau at max safe E: 161.84\n"
       ]
      },
      {
       "output_type": "stream",
       "stream": "stderr",
       "text": [
        "INFO - Predicted counts/hour: 5.45e+05\n"
       ]
      },
      {
       "output_type": "stream",
       "stream": "stderr",
       "text": [
        "INFO - This is approximately 82,749.0801% of the Crab Nebula's Flux\n"
       ]
      },
      {
       "output_type": "stream",
       "stream": "stderr",
       "text": [
        "INFO - This will take approximately 0.0107 hours to detect at a 5 sigma level\n"
       ]
      },
      {
       "output_type": "stream",
       "stream": "stderr",
       "text": [
        "WARNING - Spectrum starts below minimum energy in EBL table.\n"
       ]
      },
      {
       "output_type": "stream",
       "stream": "stderr",
       "text": [
        "WARNING - Spectrum continues beyond maximum energy in EBL table.\n"
       ]
      },
      {
       "output_type": "stream",
       "stream": "stderr",
       "text": [
        "WARNING - Using 659.0 counts/hr as the rate from the Crab Nebula.\n"
       ]
      },
      {
       "output_type": "stream",
       "stream": "stderr",
       "text": [
        "WARNING - Time to detection assumes a Crab Nebula Spectrum.\n"
       ]
      },
      {
       "output_type": "stream",
       "stream": "stderr",
       "text": [
        "INFO - Using Effective_Areas/VERITAS/ea_Nov2010_na_ATM21_vegasv240rc1_7sam_050off_soft-1.summary.csv\n"
       ]
      },
      {
       "output_type": "stream",
       "stream": "stderr",
       "text": [
        "INFO - Using EffectiveArea_Azimuth_0_Zenith_20_Noise_4.07\n"
       ]
      },
      {
       "output_type": "stream",
       "stream": "stderr",
       "text": [
        "INFO - Safe energy range: 177.83 to 25,118.86 GeV\n"
       ]
      },
      {
       "output_type": "stream",
       "stream": "stderr",
       "text": [
        "INFO - dNdE at 1 GeV: 4.73e-05 s^-1 cm^-2 GeV^-1\n"
       ]
      },
      {
       "output_type": "stream",
       "stream": "stderr",
       "text": [
        "INFO - dNdE at 400 GeV: 4.49e-10 s^-1 cm^-2 GeV^-1\n"
       ]
      },
      {
       "output_type": "stream",
       "stream": "stderr",
       "text": [
        "INFO - dNdE at 1 TeV: 7.67e-11 s^-1 cm^-2 GeV^-1\n"
       ]
      },
      {
       "output_type": "stream",
       "stream": "stderr",
       "text": [
        "INFO - tau at min safe E: 0.39\n"
       ]
      },
      {
       "output_type": "stream",
       "stream": "stderr",
       "text": [
        "INFO - tau at max safe E: 161.84\n"
       ]
      },
      {
       "output_type": "stream",
       "stream": "stderr",
       "text": [
        "INFO - Predicted counts/hour: 1.91e+05\n"
       ]
      },
      {
       "output_type": "stream",
       "stream": "stderr",
       "text": [
        "INFO - This is approximately 28,969.6215% of the Crab Nebula's Flux\n"
       ]
      },
      {
       "output_type": "stream",
       "stream": "stderr",
       "text": [
        "INFO - This will take approximately 0.0107 hours to detect at a 5 sigma level\n"
       ]
      },
      {
       "output_type": "stream",
       "stream": "stderr",
       "text": [
        "WARNING - Spectrum starts below minimum energy in EBL table.\n"
       ]
      },
      {
       "output_type": "stream",
       "stream": "stderr",
       "text": [
        "WARNING - Spectrum continues beyond maximum energy in EBL table.\n"
       ]
      },
      {
       "output_type": "stream",
       "stream": "stderr",
       "text": [
        "WARNING - Using 659.0 counts/hr as the rate from the Crab Nebula.\n"
       ]
      },
      {
       "output_type": "stream",
       "stream": "stderr",
       "text": [
        "WARNING - Time to detection assumes a Crab Nebula Spectrum.\n"
       ]
      },
      {
       "output_type": "stream",
       "stream": "stderr",
       "text": [
        "INFO - Using Effective_Areas/VERITAS/ea_Nov2010_na_ATM21_vegasv240rc1_7sam_050off_soft-1.summary.csv\n"
       ]
      },
      {
       "output_type": "stream",
       "stream": "stderr",
       "text": [
        "INFO - Using EffectiveArea_Azimuth_0_Zenith_20_Noise_4.07\n"
       ]
      },
      {
       "output_type": "stream",
       "stream": "stderr",
       "text": [
        "INFO - Safe energy range: 177.83 to 25,118.86 GeV\n"
       ]
      },
      {
       "output_type": "stream",
       "stream": "stderr",
       "text": [
        "INFO - dNdE at 1 GeV: 2.65e-05 s^-1 cm^-2 GeV^-1\n"
       ]
      },
      {
       "output_type": "stream",
       "stream": "stderr",
       "text": [
        "INFO - dNdE at 400 GeV: 1.56e-10 s^-1 cm^-2 GeV^-1\n"
       ]
      },
      {
       "output_type": "stream",
       "stream": "stderr",
       "text": [
        "INFO - dNdE at 1 TeV: 2.47e-11 s^-1 cm^-2 GeV^-1\n"
       ]
      },
      {
       "output_type": "stream",
       "stream": "stderr",
       "text": [
        "INFO - tau at min safe E: 0.39\n"
       ]
      },
      {
       "output_type": "stream",
       "stream": "stderr",
       "text": [
        "INFO - tau at max safe E: 161.84\n"
       ]
      },
      {
       "output_type": "stream",
       "stream": "stderr",
       "text": [
        "INFO - Predicted counts/hour: 6.82e+04\n"
       ]
      },
      {
       "output_type": "stream",
       "stream": "stderr",
       "text": [
        "INFO - This is approximately 10,347.8572% of the Crab Nebula's Flux\n"
       ]
      },
      {
       "output_type": "stream",
       "stream": "stderr",
       "text": [
        "INFO - This will take approximately 0.0107 hours to detect at a 5 sigma level\n"
       ]
      },
      {
       "output_type": "stream",
       "stream": "stderr",
       "text": [
        "WARNING - Spectrum starts below minimum energy in EBL table.\n"
       ]
      },
      {
       "output_type": "stream",
       "stream": "stderr",
       "text": [
        "WARNING - Spectrum continues beyond maximum energy in EBL table.\n"
       ]
      },
      {
       "output_type": "stream",
       "stream": "stderr",
       "text": [
        "WARNING - Using 659.0 counts/hr as the rate from the Crab Nebula.\n"
       ]
      },
      {
       "output_type": "stream",
       "stream": "stderr",
       "text": [
        "WARNING - Time to detection assumes a Crab Nebula Spectrum.\n"
       ]
      },
      {
       "output_type": "stream",
       "stream": "stderr",
       "text": [
        "INFO - Using Effective_Areas/VERITAS/ea_Nov2010_na_ATM21_vegasv240rc1_7sam_050off_soft-1.summary.csv\n"
       ]
      },
      {
       "output_type": "stream",
       "stream": "stderr",
       "text": [
        "INFO - Using EffectiveArea_Azimuth_0_Zenith_20_Noise_4.07\n"
       ]
      },
      {
       "output_type": "stream",
       "stream": "stderr",
       "text": [
        "INFO - Safe energy range: 177.83 to 25,118.86 GeV\n"
       ]
      },
      {
       "output_type": "stream",
       "stream": "stderr",
       "text": [
        "INFO - dNdE at 1 GeV: 2.12e-05 s^-1 cm^-2 GeV^-1\n"
       ]
      },
      {
       "output_type": "stream",
       "stream": "stderr",
       "text": [
        "INFO - dNdE at 400 GeV: 4.50e-11 s^-1 cm^-2 GeV^-1\n"
       ]
      },
      {
       "output_type": "stream",
       "stream": "stderr",
       "text": [
        "INFO - dNdE at 1 TeV: 6.11e-12 s^-1 cm^-2 GeV^-1\n"
       ]
      },
      {
       "output_type": "stream",
       "stream": "stderr",
       "text": [
        "INFO - tau at min safe E: 0.39\n"
       ]
      },
      {
       "output_type": "stream",
       "stream": "stderr",
       "text": [
        "INFO - tau at max safe E: 161.84\n"
       ]
      },
      {
       "output_type": "stream",
       "stream": "stderr",
       "text": [
        "INFO - Predicted counts/hour: 2.11e+04\n"
       ]
      },
      {
       "output_type": "stream",
       "stream": "stderr",
       "text": [
        "INFO - This is approximately 3,198.7415% of the Crab Nebula's Flux\n"
       ]
      },
      {
       "output_type": "stream",
       "stream": "stderr",
       "text": [
        "INFO - This will take approximately 0.0107 hours to detect at a 5 sigma level\n"
       ]
      },
      {
       "output_type": "stream",
       "stream": "stderr",
       "text": [
        "WARNING - Spectrum starts below minimum energy in EBL table.\n"
       ]
      },
      {
       "output_type": "stream",
       "stream": "stderr",
       "text": [
        "WARNING - Spectrum continues beyond maximum energy in EBL table.\n"
       ]
      },
      {
       "output_type": "stream",
       "stream": "stderr",
       "text": [
        "WARNING - Using 659.0 counts/hr as the rate from the Crab Nebula.\n"
       ]
      },
      {
       "output_type": "stream",
       "stream": "stderr",
       "text": [
        "WARNING - Time to detection assumes a Crab Nebula Spectrum.\n"
       ]
      },
      {
       "output_type": "stream",
       "stream": "stderr",
       "text": [
        "INFO - Using Effective_Areas/VERITAS/ea_Nov2010_na_ATM21_vegasv240rc1_7sam_050off_soft-1.summary.csv\n"
       ]
      },
      {
       "output_type": "stream",
       "stream": "stderr",
       "text": [
        "INFO - Using EffectiveArea_Azimuth_0_Zenith_20_Noise_4.07\n"
       ]
      },
      {
       "output_type": "stream",
       "stream": "stderr",
       "text": [
        "INFO - Safe energy range: 177.83 to 25,118.86 GeV\n"
       ]
      },
      {
       "output_type": "stream",
       "stream": "stderr",
       "text": [
        "INFO - dNdE at 1 GeV: 2.62e-05 s^-1 cm^-2 GeV^-1\n"
       ]
      },
      {
       "output_type": "stream",
       "stream": "stderr",
       "text": [
        "INFO - dNdE at 400 GeV: 9.00e-11 s^-1 cm^-2 GeV^-1\n"
       ]
      },
      {
       "output_type": "stream",
       "stream": "stderr",
       "text": [
        "INFO - dNdE at 1 TeV: 1.31e-11 s^-1 cm^-2 GeV^-1\n"
       ]
      },
      {
       "output_type": "stream",
       "stream": "stderr",
       "text": [
        "INFO - tau at min safe E: 0.39\n"
       ]
      },
      {
       "output_type": "stream",
       "stream": "stderr",
       "text": [
        "INFO - tau at max safe E: 161.84\n"
       ]
      },
      {
       "output_type": "stream",
       "stream": "stderr",
       "text": [
        "INFO - Predicted counts/hour: 4.08e+04\n"
       ]
      },
      {
       "output_type": "stream",
       "stream": "stderr",
       "text": [
        "INFO - This is approximately 6,191.8697% of the Crab Nebula's Flux\n"
       ]
      },
      {
       "output_type": "stream",
       "stream": "stderr",
       "text": [
        "INFO - This will take approximately 0.0107 hours to detect at a 5 sigma level\n"
       ]
      },
      {
       "output_type": "stream",
       "stream": "stderr",
       "text": [
        "WARNING - Spectrum starts below minimum energy in EBL table.\n"
       ]
      },
      {
       "output_type": "stream",
       "stream": "stderr",
       "text": [
        "WARNING - Spectrum continues beyond maximum energy in EBL table.\n"
       ]
      },
      {
       "output_type": "stream",
       "stream": "stderr",
       "text": [
        "WARNING - Using 659.0 counts/hr as the rate from the Crab Nebula.\n"
       ]
      },
      {
       "output_type": "stream",
       "stream": "stderr",
       "text": [
        "WARNING - Time to detection assumes a Crab Nebula Spectrum.\n"
       ]
      },
      {
       "output_type": "stream",
       "stream": "stderr",
       "text": [
        "INFO - Using Effective_Areas/VERITAS/ea_Nov2010_na_ATM21_vegasv240rc1_7sam_050off_soft-1.summary.csv\n"
       ]
      },
      {
       "output_type": "stream",
       "stream": "stderr",
       "text": [
        "INFO - Using EffectiveArea_Azimuth_0_Zenith_20_Noise_4.07\n"
       ]
      },
      {
       "output_type": "stream",
       "stream": "stderr",
       "text": [
        "INFO - Safe energy range: 177.83 to 25,118.86 GeV\n"
       ]
      },
      {
       "output_type": "stream",
       "stream": "stderr",
       "text": [
        "INFO - dNdE at 1 GeV: 9.33e-07 s^-1 cm^-2 GeV^-1\n"
       ]
      },
      {
       "output_type": "stream",
       "stream": "stderr",
       "text": [
        "INFO - dNdE at 400 GeV: 6.58e-12 s^-1 cm^-2 GeV^-1\n"
       ]
      },
      {
       "output_type": "stream",
       "stream": "stderr",
       "text": [
        "INFO - dNdE at 1 TeV: 1.07e-12 s^-1 cm^-2 GeV^-1\n"
       ]
      },
      {
       "output_type": "stream",
       "stream": "stderr",
       "text": [
        "INFO - tau at min safe E: 0.39\n"
       ]
      },
      {
       "output_type": "stream",
       "stream": "stderr",
       "text": [
        "INFO - tau at max safe E: 161.84\n"
       ]
      },
      {
       "output_type": "stream",
       "stream": "stderr",
       "text": [
        "INFO - Predicted counts/hour: 2.85e+03\n"
       ]
      },
      {
       "output_type": "stream",
       "stream": "stderr",
       "text": [
        "INFO - This is approximately 432.0228% of the Crab Nebula's Flux\n"
       ]
      },
      {
       "output_type": "stream",
       "stream": "stderr",
       "text": [
        "INFO - This will take approximately 0.0107 hours to detect at a 5 sigma level\n"
       ]
      },
      {
       "output_type": "stream",
       "stream": "stderr",
       "text": [
        "WARNING - Spectrum starts below minimum energy in EBL table.\n"
       ]
      },
      {
       "output_type": "stream",
       "stream": "stderr",
       "text": [
        "WARNING - Spectrum continues beyond maximum energy in EBL table.\n"
       ]
      },
      {
       "output_type": "stream",
       "stream": "stderr",
       "text": [
        "WARNING - Using 659.0 counts/hr as the rate from the Crab Nebula.\n"
       ]
      },
      {
       "output_type": "stream",
       "stream": "stderr",
       "text": [
        "WARNING - Time to detection assumes a Crab Nebula Spectrum.\n"
       ]
      },
      {
       "output_type": "stream",
       "stream": "stderr",
       "text": [
        "INFO - Using Effective_Areas/VERITAS/ea_Nov2010_na_ATM21_vegasv240rc1_7sam_050off_soft-1.summary.csv\n"
       ]
      },
      {
       "output_type": "stream",
       "stream": "stderr",
       "text": [
        "INFO - Using EffectiveArea_Azimuth_0_Zenith_20_Noise_4.07\n"
       ]
      },
      {
       "output_type": "stream",
       "stream": "stderr",
       "text": [
        "INFO - Safe energy range: 177.83 to 25,118.86 GeV\n"
       ]
      },
      {
       "output_type": "stream",
       "stream": "stderr",
       "text": [
        "INFO - dNdE at 1 GeV: 1.17e-09 s^-1 cm^-2 GeV^-1\n"
       ]
      },
      {
       "output_type": "stream",
       "stream": "stderr",
       "text": [
        "INFO - dNdE at 400 GeV: 7.31e-15 s^-1 cm^-2 GeV^-1\n"
       ]
      },
      {
       "output_type": "stream",
       "stream": "stderr",
       "text": [
        "INFO - dNdE at 1 TeV: 1.17e-15 s^-1 cm^-2 GeV^-1\n"
       ]
      },
      {
       "output_type": "stream",
       "stream": "stderr",
       "text": [
        "INFO - tau at min safe E: 0.39\n"
       ]
      },
      {
       "output_type": "stream",
       "stream": "stderr",
       "text": [
        "INFO - tau at max safe E: 161.84\n"
       ]
      },
      {
       "output_type": "stream",
       "stream": "stderr",
       "text": [
        "INFO - Predicted counts/hour: 3.19e+00\n"
       ]
      },
      {
       "output_type": "stream",
       "stream": "stderr",
       "text": [
        "INFO - This is approximately 0.4840% of the Crab Nebula's Flux\n"
       ]
      },
      {
       "output_type": "stream",
       "stream": "stderr",
       "text": [
        "INFO - This will take approximately 103.8836 hours to detect at a 5 sigma level\n"
       ]
      },
      {
       "output_type": "stream",
       "stream": "stderr",
       "text": [
        "WARNING - Spectrum starts below minimum energy in EBL table.\n"
       ]
      },
      {
       "output_type": "stream",
       "stream": "stderr",
       "text": [
        "WARNING - Spectrum continues beyond maximum energy in EBL table.\n"
       ]
      },
      {
       "output_type": "stream",
       "stream": "stderr",
       "text": [
        "WARNING - Using 659.0 counts/hr as the rate from the Crab Nebula.\n"
       ]
      },
      {
       "output_type": "stream",
       "stream": "stderr",
       "text": [
        "WARNING - Time to detection assumes a Crab Nebula Spectrum.\n"
       ]
      },
      {
       "output_type": "stream",
       "stream": "stderr",
       "text": [
        "INFO - Using Effective_Areas/VERITAS/ea_Nov2010_na_ATM21_vegasv240rc1_7sam_050off_soft-1.summary.csv\n"
       ]
      },
      {
       "output_type": "stream",
       "stream": "stderr",
       "text": [
        "INFO - Using EffectiveArea_Azimuth_0_Zenith_20_Noise_4.07\n"
       ]
      },
      {
       "output_type": "stream",
       "stream": "stderr",
       "text": [
        "INFO - Safe energy range: 177.83 to 25,118.86 GeV\n"
       ]
      },
      {
       "output_type": "stream",
       "stream": "stderr",
       "text": [
        "INFO - dNdE at 1 GeV: 4.91e-07 s^-1 cm^-2 GeV^-1\n"
       ]
      },
      {
       "output_type": "stream",
       "stream": "stderr",
       "text": [
        "INFO - dNdE at 400 GeV: 3.46e-12 s^-1 cm^-2 GeV^-1\n"
       ]
      },
      {
       "output_type": "stream",
       "stream": "stderr",
       "text": [
        "INFO - dNdE at 1 TeV: 5.64e-13 s^-1 cm^-2 GeV^-1\n"
       ]
      },
      {
       "output_type": "stream",
       "stream": "stderr",
       "text": [
        "INFO - tau at min safe E: 0.39\n"
       ]
      },
      {
       "output_type": "stream",
       "stream": "stderr",
       "text": [
        "INFO - tau at max safe E: 161.84\n"
       ]
      },
      {
       "output_type": "stream",
       "stream": "stderr",
       "text": [
        "INFO - Predicted counts/hour: 1.50e+03\n"
       ]
      },
      {
       "output_type": "stream",
       "stream": "stderr",
       "text": [
        "INFO - This is approximately 227.2855% of the Crab Nebula's Flux\n"
       ]
      },
      {
       "output_type": "stream",
       "stream": "stderr",
       "text": [
        "INFO - This will take approximately 0.0148 hours to detect at a 5 sigma level\n"
       ]
      },
      {
       "output_type": "stream",
       "stream": "stderr",
       "text": [
        "WARNING - Spectrum starts below minimum energy in EBL table.\n"
       ]
      },
      {
       "output_type": "stream",
       "stream": "stderr",
       "text": [
        "WARNING - Spectrum continues beyond maximum energy in EBL table.\n"
       ]
      },
      {
       "output_type": "stream",
       "stream": "stderr",
       "text": [
        "WARNING - Using 659.0 counts/hr as the rate from the Crab Nebula.\n"
       ]
      },
      {
       "output_type": "stream",
       "stream": "stderr",
       "text": [
        "WARNING - Time to detection assumes a Crab Nebula Spectrum.\n"
       ]
      },
      {
       "output_type": "stream",
       "stream": "stderr",
       "text": [
        "INFO - Using Effective_Areas/VERITAS/ea_Nov2010_na_ATM21_vegasv240rc1_7sam_050off_soft-1.summary.csv\n"
       ]
      },
      {
       "output_type": "stream",
       "stream": "stderr",
       "text": [
        "INFO - Using EffectiveArea_Azimuth_0_Zenith_20_Noise_4.07\n"
       ]
      },
      {
       "output_type": "stream",
       "stream": "stderr",
       "text": [
        "INFO - Safe energy range: 177.83 to 25,118.86 GeV\n"
       ]
      },
      {
       "output_type": "stream",
       "stream": "stderr",
       "text": [
        "INFO - dNdE at 1 GeV: 3.84e-05 s^-1 cm^-2 GeV^-1\n"
       ]
      },
      {
       "output_type": "stream",
       "stream": "stderr",
       "text": [
        "INFO - dNdE at 400 GeV: 1.44e-11 s^-1 cm^-2 GeV^-1\n"
       ]
      },
      {
       "output_type": "stream",
       "stream": "stderr",
       "text": [
        "INFO - dNdE at 1 TeV: 1.49e-12 s^-1 cm^-2 GeV^-1\n"
       ]
      },
      {
       "output_type": "stream",
       "stream": "stderr",
       "text": [
        "INFO - tau at min safe E: 0.39\n"
       ]
      },
      {
       "output_type": "stream",
       "stream": "stderr",
       "text": [
        "INFO - tau at max safe E: 161.84\n"
       ]
      },
      {
       "output_type": "stream",
       "stream": "stderr",
       "text": [
        "INFO - Predicted counts/hour: 7.59e+03\n"
       ]
      },
      {
       "output_type": "stream",
       "stream": "stderr",
       "text": [
        "INFO - This is approximately 1,152.4192% of the Crab Nebula's Flux\n"
       ]
      },
      {
       "output_type": "stream",
       "stream": "stderr",
       "text": [
        "INFO - This will take approximately 0.0107 hours to detect at a 5 sigma level\n"
       ]
      },
      {
       "output_type": "stream",
       "stream": "stderr",
       "text": [
        "WARNING - Spectrum starts below minimum energy in EBL table.\n"
       ]
      },
      {
       "output_type": "stream",
       "stream": "stderr",
       "text": [
        "WARNING - Spectrum continues beyond maximum energy in EBL table.\n"
       ]
      },
      {
       "output_type": "stream",
       "stream": "stderr",
       "text": [
        "WARNING - Using 659.0 counts/hr as the rate from the Crab Nebula.\n"
       ]
      },
      {
       "output_type": "stream",
       "stream": "stderr",
       "text": [
        "WARNING - Time to detection assumes a Crab Nebula Spectrum.\n"
       ]
      },
      {
       "output_type": "stream",
       "stream": "stderr",
       "text": [
        "INFO - Using Effective_Areas/VERITAS/ea_Nov2010_na_ATM21_vegasv240rc1_7sam_050off_soft-1.summary.csv\n"
       ]
      },
      {
       "output_type": "stream",
       "stream": "stderr",
       "text": [
        "INFO - Using EffectiveArea_Azimuth_0_Zenith_20_Noise_4.07\n"
       ]
      },
      {
       "output_type": "stream",
       "stream": "stderr",
       "text": [
        "INFO - Safe energy range: 177.83 to 25,118.86 GeV\n"
       ]
      },
      {
       "output_type": "stream",
       "stream": "stderr",
       "text": [
        "INFO - dNdE at 1 GeV: 1.37e-04 s^-1 cm^-2 GeV^-1\n"
       ]
      },
      {
       "output_type": "stream",
       "stream": "stderr",
       "text": [
        "INFO - dNdE at 400 GeV: 5.98e-10 s^-1 cm^-2 GeV^-1\n"
       ]
      },
      {
       "output_type": "stream",
       "stream": "stderr",
       "text": [
        "INFO - dNdE at 1 TeV: 9.05e-11 s^-1 cm^-2 GeV^-1\n"
       ]
      },
      {
       "output_type": "stream",
       "stream": "stderr",
       "text": [
        "INFO - tau at min safe E: 0.39\n"
       ]
      },
      {
       "output_type": "stream",
       "stream": "stderr",
       "text": [
        "INFO - tau at max safe E: 161.84\n"
       ]
      },
      {
       "output_type": "stream",
       "stream": "stderr",
       "text": [
        "INFO - Predicted counts/hour: 2.67e+05\n"
       ]
      },
      {
       "output_type": "stream",
       "stream": "stderr",
       "text": [
        "INFO - This is approximately 40,477.2944% of the Crab Nebula's Flux\n"
       ]
      },
      {
       "output_type": "stream",
       "stream": "stderr",
       "text": [
        "INFO - This will take approximately 0.0107 hours to detect at a 5 sigma level\n"
       ]
      },
      {
       "output_type": "stream",
       "stream": "stderr",
       "text": [
        "WARNING - Spectrum starts below minimum energy in EBL table.\n"
       ]
      },
      {
       "output_type": "stream",
       "stream": "stderr",
       "text": [
        "WARNING - Spectrum continues beyond maximum energy in EBL table.\n"
       ]
      },
      {
       "output_type": "stream",
       "stream": "stderr",
       "text": [
        "WARNING - Using 659.0 counts/hr as the rate from the Crab Nebula.\n"
       ]
      },
      {
       "output_type": "stream",
       "stream": "stderr",
       "text": [
        "WARNING - Time to detection assumes a Crab Nebula Spectrum.\n"
       ]
      },
      {
       "output_type": "stream",
       "stream": "stderr",
       "text": [
        "INFO - Using Effective_Areas/VERITAS/ea_Nov2010_na_ATM21_vegasv240rc1_7sam_050off_soft-1.summary.csv\n"
       ]
      },
      {
       "output_type": "stream",
       "stream": "stderr",
       "text": [
        "INFO - Using EffectiveArea_Azimuth_0_Zenith_20_Noise_4.07\n"
       ]
      },
      {
       "output_type": "stream",
       "stream": "stderr",
       "text": [
        "INFO - Safe energy range: 177.83 to 25,118.86 GeV\n"
       ]
      },
      {
       "output_type": "stream",
       "stream": "stderr",
       "text": [
        "INFO - dNdE at 1 GeV: 7.12e-05 s^-1 cm^-2 GeV^-1\n"
       ]
      },
      {
       "output_type": "stream",
       "stream": "stderr",
       "text": [
        "INFO - dNdE at 400 GeV: 1.03e-09 s^-1 cm^-2 GeV^-1\n"
       ]
      },
      {
       "output_type": "stream",
       "stream": "stderr",
       "text": [
        "INFO - dNdE at 1 TeV: 1.87e-10 s^-1 cm^-2 GeV^-1\n"
       ]
      },
      {
       "output_type": "stream",
       "stream": "stderr",
       "text": [
        "INFO - tau at min safe E: 0.39\n"
       ]
      },
      {
       "output_type": "stream",
       "stream": "stderr",
       "text": [
        "INFO - tau at max safe E: 161.84\n"
       ]
      },
      {
       "output_type": "stream",
       "stream": "stderr",
       "text": [
        "INFO - Predicted counts/hour: 4.26e+05\n"
       ]
      },
      {
       "output_type": "stream",
       "stream": "stderr",
       "text": [
        "INFO - This is approximately 64,716.9629% of the Crab Nebula's Flux\n"
       ]
      },
      {
       "output_type": "stream",
       "stream": "stderr",
       "text": [
        "INFO - This will take approximately 0.0107 hours to detect at a 5 sigma level\n"
       ]
      },
      {
       "output_type": "stream",
       "stream": "stderr",
       "text": [
        "WARNING - Spectrum starts below minimum energy in EBL table.\n"
       ]
      },
      {
       "output_type": "stream",
       "stream": "stderr",
       "text": [
        "WARNING - Spectrum continues beyond maximum energy in EBL table.\n"
       ]
      },
      {
       "output_type": "stream",
       "stream": "stderr",
       "text": [
        "WARNING - Using 659.0 counts/hr as the rate from the Crab Nebula.\n"
       ]
      },
      {
       "output_type": "stream",
       "stream": "stderr",
       "text": [
        "WARNING - Time to detection assumes a Crab Nebula Spectrum.\n"
       ]
      },
      {
       "output_type": "stream",
       "stream": "stderr",
       "text": [
        "INFO - Using Effective_Areas/VERITAS/ea_Nov2010_na_ATM21_vegasv240rc1_7sam_050off_soft-1.summary.csv\n"
       ]
      },
      {
       "output_type": "stream",
       "stream": "stderr",
       "text": [
        "INFO - Using EffectiveArea_Azimuth_0_Zenith_20_Noise_4.07\n"
       ]
      },
      {
       "output_type": "stream",
       "stream": "stderr",
       "text": [
        "INFO - Safe energy range: 177.83 to 25,118.86 GeV\n"
       ]
      },
      {
       "output_type": "stream",
       "stream": "stderr",
       "text": [
        "INFO - dNdE at 1 GeV: 3.63e-05 s^-1 cm^-2 GeV^-1\n"
       ]
      },
      {
       "output_type": "stream",
       "stream": "stderr",
       "text": [
        "INFO - dNdE at 400 GeV: 3.45e-10 s^-1 cm^-2 GeV^-1\n"
       ]
      },
      {
       "output_type": "stream",
       "stream": "stderr",
       "text": [
        "INFO - dNdE at 1 TeV: 5.89e-11 s^-1 cm^-2 GeV^-1\n"
       ]
      },
      {
       "output_type": "stream",
       "stream": "stderr",
       "text": [
        "INFO - tau at min safe E: 0.39\n"
       ]
      },
      {
       "output_type": "stream",
       "stream": "stderr",
       "text": [
        "INFO - tau at max safe E: 161.84\n"
       ]
      },
      {
       "output_type": "stream",
       "stream": "stderr",
       "text": [
        "INFO - Predicted counts/hour: 1.47e+05\n"
       ]
      },
      {
       "output_type": "stream",
       "stream": "stderr",
       "text": [
        "INFO - This is approximately 22,265.3515% of the Crab Nebula's Flux\n"
       ]
      },
      {
       "output_type": "stream",
       "stream": "stderr",
       "text": [
        "INFO - This will take approximately 0.0107 hours to detect at a 5 sigma level\n"
       ]
      },
      {
       "output_type": "stream",
       "stream": "stderr",
       "text": [
        "WARNING - Spectrum starts below minimum energy in EBL table.\n"
       ]
      },
      {
       "output_type": "stream",
       "stream": "stderr",
       "text": [
        "WARNING - Spectrum continues beyond maximum energy in EBL table.\n"
       ]
      },
      {
       "output_type": "stream",
       "stream": "stderr",
       "text": [
        "WARNING - Using 659.0 counts/hr as the rate from the Crab Nebula.\n"
       ]
      },
      {
       "output_type": "stream",
       "stream": "stderr",
       "text": [
        "WARNING - Time to detection assumes a Crab Nebula Spectrum.\n"
       ]
      },
      {
       "output_type": "stream",
       "stream": "stderr",
       "text": [
        "INFO - Using Effective_Areas/VERITAS/ea_Nov2010_na_ATM21_vegasv240rc1_7sam_050off_soft-1.summary.csv\n"
       ]
      },
      {
       "output_type": "stream",
       "stream": "stderr",
       "text": [
        "INFO - Using EffectiveArea_Azimuth_0_Zenith_20_Noise_4.07\n"
       ]
      },
      {
       "output_type": "stream",
       "stream": "stderr",
       "text": [
        "INFO - Safe energy range: 177.83 to 25,118.86 GeV\n"
       ]
      },
      {
       "output_type": "stream",
       "stream": "stderr",
       "text": [
        "INFO - dNdE at 1 GeV: 2.12e-05 s^-1 cm^-2 GeV^-1\n"
       ]
      },
      {
       "output_type": "stream",
       "stream": "stderr",
       "text": [
        "INFO - dNdE at 400 GeV: 1.25e-10 s^-1 cm^-2 GeV^-1\n"
       ]
      },
      {
       "output_type": "stream",
       "stream": "stderr",
       "text": [
        "INFO - dNdE at 1 TeV: 1.98e-11 s^-1 cm^-2 GeV^-1\n"
       ]
      },
      {
       "output_type": "stream",
       "stream": "stderr",
       "text": [
        "INFO - tau at min safe E: 0.39\n"
       ]
      },
      {
       "output_type": "stream",
       "stream": "stderr",
       "text": [
        "INFO - tau at max safe E: 161.84\n"
       ]
      },
      {
       "output_type": "stream",
       "stream": "stderr",
       "text": [
        "INFO - Predicted counts/hour: 5.46e+04\n"
       ]
      },
      {
       "output_type": "stream",
       "stream": "stderr",
       "text": [
        "INFO - This is approximately 8,279.0784% of the Crab Nebula's Flux\n"
       ]
      },
      {
       "output_type": "stream",
       "stream": "stderr",
       "text": [
        "INFO - This will take approximately 0.0107 hours to detect at a 5 sigma level\n"
       ]
      },
      {
       "output_type": "stream",
       "stream": "stderr",
       "text": [
        "WARNING - Spectrum starts below minimum energy in EBL table.\n"
       ]
      },
      {
       "output_type": "stream",
       "stream": "stderr",
       "text": [
        "WARNING - Spectrum continues beyond maximum energy in EBL table.\n"
       ]
      },
      {
       "output_type": "stream",
       "stream": "stderr",
       "text": [
        "WARNING - Using 659.0 counts/hr as the rate from the Crab Nebula.\n"
       ]
      },
      {
       "output_type": "stream",
       "stream": "stderr",
       "text": [
        "WARNING - Time to detection assumes a Crab Nebula Spectrum.\n"
       ]
      },
      {
       "output_type": "stream",
       "stream": "stderr",
       "text": [
        "INFO - Using Effective_Areas/VERITAS/ea_Nov2010_na_ATM21_vegasv240rc1_7sam_050off_soft-1.summary.csv\n"
       ]
      },
      {
       "output_type": "stream",
       "stream": "stderr",
       "text": [
        "INFO - Using EffectiveArea_Azimuth_0_Zenith_20_Noise_4.07\n"
       ]
      },
      {
       "output_type": "stream",
       "stream": "stderr",
       "text": [
        "INFO - Safe energy range: 177.83 to 25,118.86 GeV\n"
       ]
      },
      {
       "output_type": "stream",
       "stream": "stderr",
       "text": [
        "INFO - dNdE at 1 GeV: 1.71e-05 s^-1 cm^-2 GeV^-1\n"
       ]
      },
      {
       "output_type": "stream",
       "stream": "stderr",
       "text": [
        "INFO - dNdE at 400 GeV: 3.63e-11 s^-1 cm^-2 GeV^-1\n"
       ]
      },
      {
       "output_type": "stream",
       "stream": "stderr",
       "text": [
        "INFO - dNdE at 1 TeV: 4.92e-12 s^-1 cm^-2 GeV^-1\n"
       ]
      },
      {
       "output_type": "stream",
       "stream": "stderr",
       "text": [
        "INFO - tau at min safe E: 0.39\n"
       ]
      },
      {
       "output_type": "stream",
       "stream": "stderr",
       "text": [
        "INFO - tau at max safe E: 161.84\n"
       ]
      },
      {
       "output_type": "stream",
       "stream": "stderr",
       "text": [
        "INFO - Predicted counts/hour: 1.70e+04\n"
       ]
      },
      {
       "output_type": "stream",
       "stream": "stderr",
       "text": [
        "INFO - This is approximately 2,578.3795% of the Crab Nebula's Flux\n"
       ]
      },
      {
       "output_type": "stream",
       "stream": "stderr",
       "text": [
        "INFO - This will take approximately 0.0107 hours to detect at a 5 sigma level\n"
       ]
      },
      {
       "output_type": "stream",
       "stream": "stderr",
       "text": [
        "WARNING - Spectrum starts below minimum energy in EBL table.\n"
       ]
      },
      {
       "output_type": "stream",
       "stream": "stderr",
       "text": [
        "WARNING - Spectrum continues beyond maximum energy in EBL table.\n"
       ]
      },
      {
       "output_type": "stream",
       "stream": "stderr",
       "text": [
        "WARNING - Using 659.0 counts/hr as the rate from the Crab Nebula.\n"
       ]
      },
      {
       "output_type": "stream",
       "stream": "stderr",
       "text": [
        "WARNING - Time to detection assumes a Crab Nebula Spectrum.\n"
       ]
      },
      {
       "output_type": "stream",
       "stream": "stderr",
       "text": [
        "INFO - Using Effective_Areas/VERITAS/ea_Nov2010_na_ATM21_vegasv240rc1_7sam_050off_soft-1.summary.csv\n"
       ]
      },
      {
       "output_type": "stream",
       "stream": "stderr",
       "text": [
        "INFO - Using EffectiveArea_Azimuth_0_Zenith_20_Noise_4.07\n"
       ]
      },
      {
       "output_type": "stream",
       "stream": "stderr",
       "text": [
        "INFO - Safe energy range: 177.83 to 25,118.86 GeV\n"
       ]
      },
      {
       "output_type": "stream",
       "stream": "stderr",
       "text": [
        "INFO - dNdE at 1 GeV: 1.25e-05 s^-1 cm^-2 GeV^-1\n"
       ]
      },
      {
       "output_type": "stream",
       "stream": "stderr",
       "text": [
        "INFO - dNdE at 400 GeV: 4.29e-11 s^-1 cm^-2 GeV^-1\n"
       ]
      },
      {
       "output_type": "stream",
       "stream": "stderr",
       "text": [
        "INFO - dNdE at 1 TeV: 6.26e-12 s^-1 cm^-2 GeV^-1\n"
       ]
      },
      {
       "output_type": "stream",
       "stream": "stderr",
       "text": [
        "INFO - tau at min safe E: 0.39\n"
       ]
      },
      {
       "output_type": "stream",
       "stream": "stderr",
       "text": [
        "INFO - tau at max safe E: 161.84\n"
       ]
      },
      {
       "output_type": "stream",
       "stream": "stderr",
       "text": [
        "INFO - Predicted counts/hour: 1.94e+04\n"
       ]
      },
      {
       "output_type": "stream",
       "stream": "stderr",
       "text": [
        "INFO - This is approximately 2,951.2144% of the Crab Nebula's Flux\n"
       ]
      },
      {
       "output_type": "stream",
       "stream": "stderr",
       "text": [
        "INFO - This will take approximately 0.0107 hours to detect at a 5 sigma level\n"
       ]
      },
      {
       "output_type": "stream",
       "stream": "stderr",
       "text": [
        "WARNING - Spectrum starts below minimum energy in EBL table.\n"
       ]
      },
      {
       "output_type": "stream",
       "stream": "stderr",
       "text": [
        "WARNING - Spectrum continues beyond maximum energy in EBL table.\n"
       ]
      },
      {
       "output_type": "stream",
       "stream": "stderr",
       "text": [
        "WARNING - Using 659.0 counts/hr as the rate from the Crab Nebula.\n"
       ]
      },
      {
       "output_type": "stream",
       "stream": "stderr",
       "text": [
        "WARNING - Time to detection assumes a Crab Nebula Spectrum.\n"
       ]
      },
      {
       "output_type": "stream",
       "stream": "stderr",
       "text": [
        "INFO - Using Effective_Areas/VERITAS/ea_Nov2010_na_ATM21_vegasv240rc1_7sam_050off_soft-1.summary.csv\n"
       ]
      },
      {
       "output_type": "stream",
       "stream": "stderr",
       "text": [
        "INFO - Using EffectiveArea_Azimuth_0_Zenith_20_Noise_4.07\n"
       ]
      },
      {
       "output_type": "stream",
       "stream": "stderr",
       "text": [
        "INFO - Safe energy range: 177.83 to 25,118.86 GeV\n"
       ]
      },
      {
       "output_type": "stream",
       "stream": "stderr",
       "text": [
        "INFO - dNdE at 1 GeV: 9.55e-08 s^-1 cm^-2 GeV^-1\n"
       ]
      },
      {
       "output_type": "stream",
       "stream": "stderr",
       "text": [
        "INFO - dNdE at 400 GeV: 6.73e-13 s^-1 cm^-2 GeV^-1\n"
       ]
      },
      {
       "output_type": "stream",
       "stream": "stderr",
       "text": [
        "INFO - dNdE at 1 TeV: 1.10e-13 s^-1 cm^-2 GeV^-1\n"
       ]
      },
      {
       "output_type": "stream",
       "stream": "stderr",
       "text": [
        "INFO - tau at min safe E: 0.39\n"
       ]
      },
      {
       "output_type": "stream",
       "stream": "stderr",
       "text": [
        "INFO - tau at max safe E: 161.84\n"
       ]
      },
      {
       "output_type": "stream",
       "stream": "stderr",
       "text": [
        "INFO - Predicted counts/hour: 2.91e+02\n"
       ]
      },
      {
       "output_type": "stream",
       "stream": "stderr",
       "text": [
        "INFO - This is approximately 44.1944% of the Crab Nebula's Flux\n"
       ]
      },
      {
       "output_type": "stream",
       "stream": "stderr",
       "text": [
        "INFO - This will take approximately 0.0776 hours to detect at a 5 sigma level\n"
       ]
      },
      {
       "output_type": "stream",
       "stream": "stderr",
       "text": [
        "WARNING - Spectrum starts below minimum energy in EBL table.\n"
       ]
      },
      {
       "output_type": "stream",
       "stream": "stderr",
       "text": [
        "WARNING - Spectrum continues beyond maximum energy in EBL table.\n"
       ]
      },
      {
       "output_type": "stream",
       "stream": "stderr",
       "text": [
        "WARNING - Using 659.0 counts/hr as the rate from the Crab Nebula.\n"
       ]
      },
      {
       "output_type": "stream",
       "stream": "stderr",
       "text": [
        "WARNING - Time to detection assumes a Crab Nebula Spectrum.\n"
       ]
      },
      {
       "output_type": "stream",
       "stream": "stderr",
       "text": [
        "INFO - Using Effective_Areas/VERITAS/ea_Nov2010_na_ATM21_vegasv240rc1_7sam_050off_soft-1.summary.csv\n"
       ]
      },
      {
       "output_type": "stream",
       "stream": "stderr",
       "text": [
        "INFO - Using EffectiveArea_Azimuth_0_Zenith_20_Noise_4.07\n"
       ]
      },
      {
       "output_type": "stream",
       "stream": "stderr",
       "text": [
        "INFO - Safe energy range: 177.83 to 25,118.86 GeV\n"
       ]
      },
      {
       "output_type": "stream",
       "stream": "stderr",
       "text": [
        "INFO - dNdE at 1 GeV: 1.17e-09 s^-1 cm^-2 GeV^-1\n"
       ]
      },
      {
       "output_type": "stream",
       "stream": "stderr",
       "text": [
        "INFO - dNdE at 400 GeV: 7.31e-15 s^-1 cm^-2 GeV^-1\n"
       ]
      },
      {
       "output_type": "stream",
       "stream": "stderr",
       "text": [
        "INFO - dNdE at 1 TeV: 1.17e-15 s^-1 cm^-2 GeV^-1\n"
       ]
      },
      {
       "output_type": "stream",
       "stream": "stderr",
       "text": [
        "INFO - tau at min safe E: 0.39\n"
       ]
      },
      {
       "output_type": "stream",
       "stream": "stderr",
       "text": [
        "INFO - tau at max safe E: 161.84\n"
       ]
      },
      {
       "output_type": "stream",
       "stream": "stderr",
       "text": [
        "INFO - Predicted counts/hour: 3.19e+00\n"
       ]
      },
      {
       "output_type": "stream",
       "stream": "stderr",
       "text": [
        "INFO - This is approximately 0.4840% of the Crab Nebula's Flux\n"
       ]
      },
      {
       "output_type": "stream",
       "stream": "stderr",
       "text": [
        "INFO - This will take approximately 103.8836 hours to detect at a 5 sigma level\n"
       ]
      },
      {
       "output_type": "stream",
       "stream": "stderr",
       "text": [
        "WARNING - Spectrum starts below minimum energy in EBL table.\n"
       ]
      },
      {
       "output_type": "stream",
       "stream": "stderr",
       "text": [
        "WARNING - Spectrum continues beyond maximum energy in EBL table.\n"
       ]
      },
      {
       "output_type": "stream",
       "stream": "stderr",
       "text": [
        "WARNING - Using 659.0 counts/hr as the rate from the Crab Nebula.\n"
       ]
      },
      {
       "output_type": "stream",
       "stream": "stderr",
       "text": [
        "WARNING - Time to detection assumes a Crab Nebula Spectrum.\n"
       ]
      },
      {
       "output_type": "stream",
       "stream": "stderr",
       "text": [
        "INFO - Using Effective_Areas/VERITAS/ea_Nov2010_na_ATM21_vegasv240rc1_7sam_050off_soft-1.summary.csv\n"
       ]
      },
      {
       "output_type": "stream",
       "stream": "stderr",
       "text": [
        "INFO - Using EffectiveArea_Azimuth_0_Zenith_20_Noise_4.07\n"
       ]
      },
      {
       "output_type": "stream",
       "stream": "stderr",
       "text": [
        "INFO - Safe energy range: 177.83 to 25,118.86 GeV\n"
       ]
      },
      {
       "output_type": "stream",
       "stream": "stderr",
       "text": [
        "INFO - dNdE at 1 GeV: 2.65e-07 s^-1 cm^-2 GeV^-1\n"
       ]
      },
      {
       "output_type": "stream",
       "stream": "stderr",
       "text": [
        "INFO - dNdE at 400 GeV: 1.87e-12 s^-1 cm^-2 GeV^-1\n"
       ]
      },
      {
       "output_type": "stream",
       "stream": "stderr",
       "text": [
        "INFO - dNdE at 1 TeV: 3.04e-13 s^-1 cm^-2 GeV^-1\n"
       ]
      },
      {
       "output_type": "stream",
       "stream": "stderr",
       "text": [
        "INFO - tau at min safe E: 0.39\n"
       ]
      },
      {
       "output_type": "stream",
       "stream": "stderr",
       "text": [
        "INFO - tau at max safe E: 161.84\n"
       ]
      },
      {
       "output_type": "stream",
       "stream": "stderr",
       "text": [
        "INFO - Predicted counts/hour: 8.08e+02\n"
       ]
      },
      {
       "output_type": "stream",
       "stream": "stderr",
       "text": [
        "INFO - This is approximately 122.6620% of the Crab Nebula's Flux\n"
       ]
      },
      {
       "output_type": "stream",
       "stream": "stderr",
       "text": [
        "INFO - This will take approximately 0.0278 hours to detect at a 5 sigma level\n"
       ]
      },
      {
       "output_type": "stream",
       "stream": "stderr",
       "text": [
        "WARNING - Spectrum starts below minimum energy in EBL table.\n"
       ]
      },
      {
       "output_type": "stream",
       "stream": "stderr",
       "text": [
        "WARNING - Spectrum continues beyond maximum energy in EBL table.\n"
       ]
      },
      {
       "output_type": "stream",
       "stream": "stderr",
       "text": [
        "WARNING - Using 659.0 counts/hr as the rate from the Crab Nebula.\n"
       ]
      },
      {
       "output_type": "stream",
       "stream": "stderr",
       "text": [
        "WARNING - Time to detection assumes a Crab Nebula Spectrum.\n"
       ]
      },
      {
       "output_type": "stream",
       "stream": "stderr",
       "text": [
        "INFO - Using Effective_Areas/VERITAS/ea_Nov2010_na_ATM21_vegasv240rc1_7sam_050off_soft-1.summary.csv\n"
       ]
      },
      {
       "output_type": "stream",
       "stream": "stderr",
       "text": [
        "INFO - Using EffectiveArea_Azimuth_0_Zenith_20_Noise_4.07\n"
       ]
      },
      {
       "output_type": "stream",
       "stream": "stderr",
       "text": [
        "INFO - Safe energy range: 177.83 to 25,118.86 GeV\n"
       ]
      },
      {
       "output_type": "stream",
       "stream": "stderr",
       "text": [
        "INFO - dNdE at 1 GeV: 8.34e-05 s^-1 cm^-2 GeV^-1\n"
       ]
      },
      {
       "output_type": "stream",
       "stream": "stderr",
       "text": [
        "INFO - dNdE at 400 GeV: 4.62e-10 s^-1 cm^-2 GeV^-1\n"
       ]
      },
      {
       "output_type": "stream",
       "stream": "stderr",
       "text": [
        "INFO - dNdE at 1 TeV: 7.26e-11 s^-1 cm^-2 GeV^-1\n"
       ]
      },
      {
       "output_type": "stream",
       "stream": "stderr",
       "text": [
        "INFO - tau at min safe E: 0.39\n"
       ]
      },
      {
       "output_type": "stream",
       "stream": "stderr",
       "text": [
        "INFO - tau at max safe E: 161.84\n"
       ]
      },
      {
       "output_type": "stream",
       "stream": "stderr",
       "text": [
        "INFO - Predicted counts/hour: 2.03e+05\n"
       ]
      },
      {
       "output_type": "stream",
       "stream": "stderr",
       "text": [
        "INFO - This is approximately 30,841.1410% of the Crab Nebula's Flux\n"
       ]
      },
      {
       "output_type": "stream",
       "stream": "stderr",
       "text": [
        "INFO - This will take approximately 0.0107 hours to detect at a 5 sigma level\n"
       ]
      },
      {
       "output_type": "stream",
       "stream": "stderr",
       "text": [
        "WARNING - Spectrum starts below minimum energy in EBL table.\n"
       ]
      },
      {
       "output_type": "stream",
       "stream": "stderr",
       "text": [
        "WARNING - Spectrum continues beyond maximum energy in EBL table.\n"
       ]
      },
      {
       "output_type": "stream",
       "stream": "stderr",
       "text": [
        "WARNING - Using 659.0 counts/hr as the rate from the Crab Nebula.\n"
       ]
      },
      {
       "output_type": "stream",
       "stream": "stderr",
       "text": [
        "WARNING - Time to detection assumes a Crab Nebula Spectrum.\n"
       ]
      },
      {
       "output_type": "stream",
       "stream": "stderr",
       "text": [
        "INFO - Using Effective_Areas/VERITAS/ea_Nov2010_na_ATM21_vegasv240rc1_7sam_050off_soft-1.summary.csv\n"
       ]
      },
      {
       "output_type": "stream",
       "stream": "stderr",
       "text": [
        "INFO - Using EffectiveArea_Azimuth_0_Zenith_20_Noise_4.07\n"
       ]
      },
      {
       "output_type": "stream",
       "stream": "stderr",
       "text": [
        "INFO - Safe energy range: 177.83 to 25,118.86 GeV\n"
       ]
      },
      {
       "output_type": "stream",
       "stream": "stderr",
       "text": [
        "INFO - dNdE at 1 GeV: 1.84e-04 s^-1 cm^-2 GeV^-1\n"
       ]
      },
      {
       "output_type": "stream",
       "stream": "stderr",
       "text": [
        "INFO - dNdE at 400 GeV: 1.81e-09 s^-1 cm^-2 GeV^-1\n"
       ]
      },
      {
       "output_type": "stream",
       "stream": "stderr",
       "text": [
        "INFO - dNdE at 1 TeV: 3.11e-10 s^-1 cm^-2 GeV^-1\n"
       ]
      },
      {
       "output_type": "stream",
       "stream": "stderr",
       "text": [
        "INFO - tau at min safe E: 0.39\n"
       ]
      },
      {
       "output_type": "stream",
       "stream": "stderr",
       "text": [
        "INFO - tau at max safe E: 161.84\n"
       ]
      },
      {
       "output_type": "stream",
       "stream": "stderr",
       "text": [
        "INFO - Predicted counts/hour: 7.68e+05\n"
       ]
      },
      {
       "output_type": "stream",
       "stream": "stderr",
       "text": [
        "INFO - This is approximately 116,488.7687% of the Crab Nebula's Flux\n"
       ]
      },
      {
       "output_type": "stream",
       "stream": "stderr",
       "text": [
        "INFO - This will take approximately 0.0107 hours to detect at a 5 sigma level\n"
       ]
      },
      {
       "output_type": "stream",
       "stream": "stderr",
       "text": [
        "WARNING - Spectrum starts below minimum energy in EBL table.\n"
       ]
      },
      {
       "output_type": "stream",
       "stream": "stderr",
       "text": [
        "WARNING - Spectrum continues beyond maximum energy in EBL table.\n"
       ]
      },
      {
       "output_type": "stream",
       "stream": "stderr",
       "text": [
        "WARNING - Using 659.0 counts/hr as the rate from the Crab Nebula.\n"
       ]
      },
      {
       "output_type": "stream",
       "stream": "stderr",
       "text": [
        "WARNING - Time to detection assumes a Crab Nebula Spectrum.\n"
       ]
      },
      {
       "output_type": "stream",
       "stream": "stderr",
       "text": [
        "INFO - Using Effective_Areas/VERITAS/ea_Nov2010_na_ATM21_vegasv240rc1_7sam_050off_soft-1.summary.csv\n"
       ]
      },
      {
       "output_type": "stream",
       "stream": "stderr",
       "text": [
        "INFO - Using EffectiveArea_Azimuth_0_Zenith_20_Noise_4.07\n"
       ]
      },
      {
       "output_type": "stream",
       "stream": "stderr",
       "text": [
        "INFO - Safe energy range: 177.83 to 25,118.86 GeV\n"
       ]
      },
      {
       "output_type": "stream",
       "stream": "stderr",
       "text": [
        "INFO - dNdE at 1 GeV: 9.11e-05 s^-1 cm^-2 GeV^-1\n"
       ]
      },
      {
       "output_type": "stream",
       "stream": "stderr",
       "text": [
        "INFO - dNdE at 400 GeV: 2.35e-09 s^-1 cm^-2 GeV^-1\n"
       ]
      },
      {
       "output_type": "stream",
       "stream": "stderr",
       "text": [
        "INFO - dNdE at 1 TeV: 4.67e-10 s^-1 cm^-2 GeV^-1\n"
       ]
      },
      {
       "output_type": "stream",
       "stream": "stderr",
       "text": [
        "INFO - tau at min safe E: 0.39\n"
       ]
      },
      {
       "output_type": "stream",
       "stream": "stderr",
       "text": [
        "INFO - tau at max safe E: 161.84\n"
       ]
      },
      {
       "output_type": "stream",
       "stream": "stderr",
       "text": [
        "INFO - Predicted counts/hour: 9.40e+05\n"
       ]
      },
      {
       "output_type": "stream",
       "stream": "stderr",
       "text": [
        "INFO - This is approximately 142,706.5795% of the Crab Nebula's Flux\n"
       ]
      },
      {
       "output_type": "stream",
       "stream": "stderr",
       "text": [
        "INFO - This will take approximately 0.0107 hours to detect at a 5 sigma level\n"
       ]
      },
      {
       "output_type": "stream",
       "stream": "stderr",
       "text": [
        "WARNING - Spectrum starts below minimum energy in EBL table.\n"
       ]
      },
      {
       "output_type": "stream",
       "stream": "stderr",
       "text": [
        "WARNING - Spectrum continues beyond maximum energy in EBL table.\n"
       ]
      },
      {
       "output_type": "stream",
       "stream": "stderr",
       "text": [
        "WARNING - Using 659.0 counts/hr as the rate from the Crab Nebula.\n"
       ]
      },
      {
       "output_type": "stream",
       "stream": "stderr",
       "text": [
        "WARNING - Time to detection assumes a Crab Nebula Spectrum.\n"
       ]
      },
      {
       "output_type": "stream",
       "stream": "stderr",
       "text": [
        "INFO - Using Effective_Areas/VERITAS/ea_Nov2010_na_ATM21_vegasv240rc1_7sam_050off_soft-1.summary.csv\n"
       ]
      },
      {
       "output_type": "stream",
       "stream": "stderr",
       "text": [
        "INFO - Using EffectiveArea_Azimuth_0_Zenith_20_Noise_4.07\n"
       ]
      },
      {
       "output_type": "stream",
       "stream": "stderr",
       "text": [
        "INFO - Safe energy range: 177.83 to 25,118.86 GeV\n"
       ]
      },
      {
       "output_type": "stream",
       "stream": "stderr",
       "text": [
        "INFO - dNdE at 1 GeV: 4.73e-05 s^-1 cm^-2 GeV^-1\n"
       ]
      },
      {
       "output_type": "stream",
       "stream": "stderr",
       "text": [
        "INFO - dNdE at 400 GeV: 8.43e-10 s^-1 cm^-2 GeV^-1\n"
       ]
      },
      {
       "output_type": "stream",
       "stream": "stderr",
       "text": [
        "INFO - dNdE at 1 TeV: 1.58e-10 s^-1 cm^-2 GeV^-1\n"
       ]
      },
      {
       "output_type": "stream",
       "stream": "stderr",
       "text": [
        "INFO - tau at min safe E: 0.39\n"
       ]
      },
      {
       "output_type": "stream",
       "stream": "stderr",
       "text": [
        "INFO - tau at max safe E: 161.84\n"
       ]
      },
      {
       "output_type": "stream",
       "stream": "stderr",
       "text": [
        "INFO - Predicted counts/hour: 3.45e+05\n"
       ]
      },
      {
       "output_type": "stream",
       "stream": "stderr",
       "text": [
        "INFO - This is approximately 52,300.8321% of the Crab Nebula's Flux\n"
       ]
      },
      {
       "output_type": "stream",
       "stream": "stderr",
       "text": [
        "INFO - This will take approximately 0.0107 hours to detect at a 5 sigma level\n"
       ]
      },
      {
       "output_type": "stream",
       "stream": "stderr",
       "text": [
        "WARNING - Spectrum starts below minimum energy in EBL table.\n"
       ]
      },
      {
       "output_type": "stream",
       "stream": "stderr",
       "text": [
        "WARNING - Spectrum continues beyond maximum energy in EBL table.\n"
       ]
      },
      {
       "output_type": "stream",
       "stream": "stderr",
       "text": [
        "WARNING - Using 659.0 counts/hr as the rate from the Crab Nebula.\n"
       ]
      },
      {
       "output_type": "stream",
       "stream": "stderr",
       "text": [
        "WARNING - Time to detection assumes a Crab Nebula Spectrum.\n"
       ]
      },
      {
       "output_type": "stream",
       "stream": "stderr",
       "text": [
        "INFO - Using Effective_Areas/VERITAS/ea_Nov2010_na_ATM21_vegasv240rc1_7sam_050off_soft-1.summary.csv\n"
       ]
      },
      {
       "output_type": "stream",
       "stream": "stderr",
       "text": [
        "INFO - Using EffectiveArea_Azimuth_0_Zenith_20_Noise_4.07\n"
       ]
      },
      {
       "output_type": "stream",
       "stream": "stderr",
       "text": [
        "INFO - Safe energy range: 177.83 to 25,118.86 GeV\n"
       ]
      },
      {
       "output_type": "stream",
       "stream": "stderr",
       "text": [
        "INFO - dNdE at 1 GeV: 2.65e-05 s^-1 cm^-2 GeV^-1\n"
       ]
      },
      {
       "output_type": "stream",
       "stream": "stderr",
       "text": [
        "INFO - dNdE at 400 GeV: 2.75e-10 s^-1 cm^-2 GeV^-1\n"
       ]
      },
      {
       "output_type": "stream",
       "stream": "stderr",
       "text": [
        "INFO - dNdE at 1 TeV: 4.76e-11 s^-1 cm^-2 GeV^-1\n"
       ]
      },
      {
       "output_type": "stream",
       "stream": "stderr",
       "text": [
        "INFO - tau at min safe E: 0.39\n"
       ]
      },
      {
       "output_type": "stream",
       "stream": "stderr",
       "text": [
        "INFO - tau at max safe E: 161.84\n"
       ]
      },
      {
       "output_type": "stream",
       "stream": "stderr",
       "text": [
        "INFO - Predicted counts/hour: 1.16e+05\n"
       ]
      },
      {
       "output_type": "stream",
       "stream": "stderr",
       "text": [
        "INFO - This is approximately 17,640.0376% of the Crab Nebula's Flux\n"
       ]
      },
      {
       "output_type": "stream",
       "stream": "stderr",
       "text": [
        "INFO - This will take approximately 0.0107 hours to detect at a 5 sigma level\n"
       ]
      },
      {
       "output_type": "stream",
       "stream": "stderr",
       "text": [
        "WARNING - Spectrum starts below minimum energy in EBL table.\n"
       ]
      },
      {
       "output_type": "stream",
       "stream": "stderr",
       "text": [
        "WARNING - Spectrum continues beyond maximum energy in EBL table.\n"
       ]
      },
      {
       "output_type": "stream",
       "stream": "stderr",
       "text": [
        "WARNING - Using 659.0 counts/hr as the rate from the Crab Nebula.\n"
       ]
      },
      {
       "output_type": "stream",
       "stream": "stderr",
       "text": [
        "WARNING - Time to detection assumes a Crab Nebula Spectrum.\n"
       ]
      },
      {
       "output_type": "stream",
       "stream": "stderr",
       "text": [
        "INFO - Using Effective_Areas/VERITAS/ea_Nov2010_na_ATM21_vegasv240rc1_7sam_050off_soft-1.summary.csv\n"
       ]
      },
      {
       "output_type": "stream",
       "stream": "stderr",
       "text": [
        "INFO - Using EffectiveArea_Azimuth_0_Zenith_20_Noise_4.07\n"
       ]
      },
      {
       "output_type": "stream",
       "stream": "stderr",
       "text": [
        "INFO - Safe energy range: 177.83 to 25,118.86 GeV\n"
       ]
      },
      {
       "output_type": "stream",
       "stream": "stderr",
       "text": [
        "INFO - dNdE at 1 GeV: 2.12e-05 s^-1 cm^-2 GeV^-1\n"
       ]
      },
      {
       "output_type": "stream",
       "stream": "stderr",
       "text": [
        "INFO - dNdE at 400 GeV: 8.35e-11 s^-1 cm^-2 GeV^-1\n"
       ]
      },
      {
       "output_type": "stream",
       "stream": "stderr",
       "text": [
        "INFO - dNdE at 1 TeV: 1.24e-11 s^-1 cm^-2 GeV^-1\n"
       ]
      },
      {
       "output_type": "stream",
       "stream": "stderr",
       "text": [
        "INFO - tau at min safe E: 0.39\n"
       ]
      },
      {
       "output_type": "stream",
       "stream": "stderr",
       "text": [
        "INFO - tau at max safe E: 161.84\n"
       ]
      },
      {
       "output_type": "stream",
       "stream": "stderr",
       "text": [
        "INFO - Predicted counts/hour: 3.75e+04\n"
       ]
      },
      {
       "output_type": "stream",
       "stream": "stderr",
       "text": [
        "INFO - This is approximately 5,690.9288% of the Crab Nebula's Flux\n"
       ]
      },
      {
       "output_type": "stream",
       "stream": "stderr",
       "text": [
        "INFO - This will take approximately 0.0107 hours to detect at a 5 sigma level\n"
       ]
      },
      {
       "output_type": "stream",
       "stream": "stderr",
       "text": [
        "WARNING - Spectrum starts below minimum energy in EBL table.\n"
       ]
      },
      {
       "output_type": "stream",
       "stream": "stderr",
       "text": [
        "WARNING - Spectrum continues beyond maximum energy in EBL table.\n"
       ]
      },
      {
       "output_type": "stream",
       "stream": "stderr",
       "text": [
        "WARNING - Using 659.0 counts/hr as the rate from the Crab Nebula.\n"
       ]
      },
      {
       "output_type": "stream",
       "stream": "stderr",
       "text": [
        "WARNING - Time to detection assumes a Crab Nebula Spectrum.\n"
       ]
      },
      {
       "output_type": "stream",
       "stream": "stderr",
       "text": [
        "INFO - Using Effective_Areas/VERITAS/ea_Nov2010_na_ATM21_vegasv240rc1_7sam_050off_soft-1.summary.csv\n"
       ]
      },
      {
       "output_type": "stream",
       "stream": "stderr",
       "text": [
        "INFO - Using EffectiveArea_Azimuth_0_Zenith_20_Noise_4.07\n"
       ]
      },
      {
       "output_type": "stream",
       "stream": "stderr",
       "text": [
        "INFO - Safe energy range: 177.83 to 25,118.86 GeV\n"
       ]
      },
      {
       "output_type": "stream",
       "stream": "stderr",
       "text": [
        "INFO - dNdE at 1 GeV: 2.62e-05 s^-1 cm^-2 GeV^-1\n"
       ]
      },
      {
       "output_type": "stream",
       "stream": "stderr",
       "text": [
        "INFO - dNdE at 400 GeV: 1.05e-09 s^-1 cm^-2 GeV^-1\n"
       ]
      },
      {
       "output_type": "stream",
       "stream": "stderr",
       "text": [
        "INFO - dNdE at 1 TeV: 2.23e-10 s^-1 cm^-2 GeV^-1\n"
       ]
      },
      {
       "output_type": "stream",
       "stream": "stderr",
       "text": [
        "INFO - tau at min safe E: 0.39\n"
       ]
      },
      {
       "output_type": "stream",
       "stream": "stderr",
       "text": [
        "INFO - tau at max safe E: 161.84\n"
       ]
      },
      {
       "output_type": "stream",
       "stream": "stderr",
       "text": [
        "INFO - Predicted counts/hour: 4.09e+05\n"
       ]
      },
      {
       "output_type": "stream",
       "stream": "stderr",
       "text": [
        "INFO - This is approximately 62,130.5303% of the Crab Nebula's Flux\n"
       ]
      },
      {
       "output_type": "stream",
       "stream": "stderr",
       "text": [
        "INFO - This will take approximately 0.0107 hours to detect at a 5 sigma level\n"
       ]
      },
      {
       "output_type": "stream",
       "stream": "stderr",
       "text": [
        "WARNING - Spectrum starts below minimum energy in EBL table.\n"
       ]
      },
      {
       "output_type": "stream",
       "stream": "stderr",
       "text": [
        "WARNING - Spectrum continues beyond maximum energy in EBL table.\n"
       ]
      },
      {
       "output_type": "stream",
       "stream": "stderr",
       "text": [
        "WARNING - Using 659.0 counts/hr as the rate from the Crab Nebula.\n"
       ]
      },
      {
       "output_type": "stream",
       "stream": "stderr",
       "text": [
        "WARNING - Time to detection assumes a Crab Nebula Spectrum.\n"
       ]
      },
      {
       "output_type": "stream",
       "stream": "stderr",
       "text": [
        "INFO - Using Effective_Areas/VERITAS/ea_Nov2010_na_ATM21_vegasv240rc1_7sam_050off_soft-1.summary.csv\n"
       ]
      },
      {
       "output_type": "stream",
       "stream": "stderr",
       "text": [
        "INFO - Using EffectiveArea_Azimuth_0_Zenith_20_Noise_4.07\n"
       ]
      },
      {
       "output_type": "stream",
       "stream": "stderr",
       "text": [
        "INFO - Safe energy range: 177.83 to 25,118.86 GeV\n"
       ]
      },
      {
       "output_type": "stream",
       "stream": "stderr",
       "text": [
        "INFO - dNdE at 1 GeV: 9.33e-07 s^-1 cm^-2 GeV^-1\n"
       ]
      },
      {
       "output_type": "stream",
       "stream": "stderr",
       "text": [
        "INFO - dNdE at 400 GeV: 1.34e-10 s^-1 cm^-2 GeV^-1\n"
       ]
      },
      {
       "output_type": "stream",
       "stream": "stderr",
       "text": [
        "INFO - dNdE at 1 TeV: 3.46e-11 s^-1 cm^-2 GeV^-1\n"
       ]
      },
      {
       "output_type": "stream",
       "stream": "stderr",
       "text": [
        "INFO - tau at min safe E: 0.39\n"
       ]
      },
      {
       "output_type": "stream",
       "stream": "stderr",
       "text": [
        "INFO - tau at max safe E: 161.84\n"
       ]
      },
      {
       "output_type": "stream",
       "stream": "stderr",
       "text": [
        "INFO - Predicted counts/hour: 4.88e+04\n"
       ]
      },
      {
       "output_type": "stream",
       "stream": "stderr",
       "text": [
        "INFO - This is approximately 7,405.5133% of the Crab Nebula's Flux\n"
       ]
      },
      {
       "output_type": "stream",
       "stream": "stderr",
       "text": [
        "INFO - This will take approximately 0.0107 hours to detect at a 5 sigma level\n"
       ]
      },
      {
       "output_type": "stream",
       "stream": "stderr",
       "text": [
        "WARNING - Spectrum starts below minimum energy in EBL table.\n"
       ]
      },
      {
       "output_type": "stream",
       "stream": "stderr",
       "text": [
        "WARNING - Spectrum continues beyond maximum energy in EBL table.\n"
       ]
      },
      {
       "output_type": "stream",
       "stream": "stderr",
       "text": [
        "WARNING - Using 659.0 counts/hr as the rate from the Crab Nebula.\n"
       ]
      },
      {
       "output_type": "stream",
       "stream": "stderr",
       "text": [
        "WARNING - Time to detection assumes a Crab Nebula Spectrum.\n"
       ]
      },
      {
       "output_type": "stream",
       "stream": "stderr",
       "text": [
        "INFO - Using Effective_Areas/VERITAS/ea_Nov2010_na_ATM21_vegasv240rc1_7sam_050off_soft-1.summary.csv\n"
       ]
      },
      {
       "output_type": "stream",
       "stream": "stderr",
       "text": [
        "INFO - Using EffectiveArea_Azimuth_0_Zenith_20_Noise_4.07\n"
       ]
      },
      {
       "output_type": "stream",
       "stream": "stderr",
       "text": [
        "INFO - Safe energy range: 177.83 to 25,118.86 GeV\n"
       ]
      },
      {
       "output_type": "stream",
       "stream": "stderr",
       "text": [
        "INFO - dNdE at 1 GeV: 1.17e-09 s^-1 cm^-2 GeV^-1\n"
       ]
      },
      {
       "output_type": "stream",
       "stream": "stderr",
       "text": [
        "INFO - dNdE at 400 GeV: 7.31e-15 s^-1 cm^-2 GeV^-1\n"
       ]
      },
      {
       "output_type": "stream",
       "stream": "stderr",
       "text": [
        "INFO - dNdE at 1 TeV: 1.17e-15 s^-1 cm^-2 GeV^-1\n"
       ]
      },
      {
       "output_type": "stream",
       "stream": "stderr",
       "text": [
        "INFO - tau at min safe E: 0.39\n"
       ]
      },
      {
       "output_type": "stream",
       "stream": "stderr",
       "text": [
        "INFO - tau at max safe E: 161.84\n"
       ]
      },
      {
       "output_type": "stream",
       "stream": "stderr",
       "text": [
        "INFO - Predicted counts/hour: 3.19e+00\n"
       ]
      },
      {
       "output_type": "stream",
       "stream": "stderr",
       "text": [
        "INFO - This is approximately 0.4840% of the Crab Nebula's Flux\n"
       ]
      },
      {
       "output_type": "stream",
       "stream": "stderr",
       "text": [
        "INFO - This will take approximately 103.8836 hours to detect at a 5 sigma level\n"
       ]
      },
      {
       "output_type": "stream",
       "stream": "stderr",
       "text": [
        "WARNING - Spectrum starts below minimum energy in EBL table.\n"
       ]
      },
      {
       "output_type": "stream",
       "stream": "stderr",
       "text": [
        "WARNING - Spectrum continues beyond maximum energy in EBL table.\n"
       ]
      },
      {
       "output_type": "stream",
       "stream": "stderr",
       "text": [
        "WARNING - Using 659.0 counts/hr as the rate from the Crab Nebula.\n"
       ]
      },
      {
       "output_type": "stream",
       "stream": "stderr",
       "text": [
        "WARNING - Time to detection assumes a Crab Nebula Spectrum.\n"
       ]
      },
      {
       "output_type": "stream",
       "stream": "stderr",
       "text": [
        "INFO - Using Effective_Areas/VERITAS/ea_Nov2010_na_ATM21_vegasv240rc1_7sam_050off_soft-1.summary.csv\n"
       ]
      },
      {
       "output_type": "stream",
       "stream": "stderr",
       "text": [
        "INFO - Using EffectiveArea_Azimuth_0_Zenith_20_Noise_4.07\n"
       ]
      },
      {
       "output_type": "stream",
       "stream": "stderr",
       "text": [
        "INFO - Safe energy range: 177.83 to 25,118.86 GeV\n"
       ]
      },
      {
       "output_type": "stream",
       "stream": "stderr",
       "text": [
        "INFO - dNdE at 1 GeV: 4.91e-07 s^-1 cm^-2 GeV^-1\n"
       ]
      },
      {
       "output_type": "stream",
       "stream": "stderr",
       "text": [
        "INFO - dNdE at 400 GeV: 1.39e-11 s^-1 cm^-2 GeV^-1\n"
       ]
      },
      {
       "output_type": "stream",
       "stream": "stderr",
       "text": [
        "INFO - dNdE at 1 TeV: 2.80e-12 s^-1 cm^-2 GeV^-1\n"
       ]
      },
      {
       "output_type": "stream",
       "stream": "stderr",
       "text": [
        "INFO - tau at min safe E: 0.39\n"
       ]
      },
      {
       "output_type": "stream",
       "stream": "stderr",
       "text": [
        "INFO - tau at max safe E: 161.84\n"
       ]
      },
      {
       "output_type": "stream",
       "stream": "stderr",
       "text": [
        "INFO - Predicted counts/hour: 5.53e+03\n"
       ]
      },
      {
       "output_type": "stream",
       "stream": "stderr",
       "text": [
        "INFO - This is approximately 838.8152% of the Crab Nebula's Flux\n"
       ]
      },
      {
       "output_type": "stream",
       "stream": "stderr",
       "text": [
        "INFO - This will take approximately 0.0107 hours to detect at a 5 sigma level\n"
       ]
      },
      {
       "output_type": "stream",
       "stream": "stderr",
       "text": [
        "WARNING - Spectrum starts below minimum energy in EBL table.\n"
       ]
      },
      {
       "output_type": "stream",
       "stream": "stderr",
       "text": [
        "WARNING - Spectrum continues beyond maximum energy in EBL table.\n"
       ]
      },
      {
       "output_type": "stream",
       "stream": "stderr",
       "text": [
        "WARNING - Using 659.0 counts/hr as the rate from the Crab Nebula.\n"
       ]
      },
      {
       "output_type": "stream",
       "stream": "stderr",
       "text": [
        "WARNING - Time to detection assumes a Crab Nebula Spectrum.\n"
       ]
      },
      {
       "output_type": "stream",
       "stream": "stderr",
       "text": [
        "INFO - Using Effective_Areas/VERITAS/ea_Nov2010_na_ATM21_vegasv240rc1_7sam_050off_soft-1.summary.csv\n"
       ]
      },
      {
       "output_type": "stream",
       "stream": "stderr",
       "text": [
        "INFO - Using EffectiveArea_Azimuth_0_Zenith_20_Noise_4.07\n"
       ]
      },
      {
       "output_type": "stream",
       "stream": "stderr",
       "text": [
        "INFO - Safe energy range: 177.83 to 25,118.86 GeV\n"
       ]
      },
      {
       "output_type": "stream",
       "stream": "stderr",
       "text": [
        "INFO - dNdE at 1 GeV: 3.84e-05 s^-1 cm^-2 GeV^-1\n"
       ]
      },
      {
       "output_type": "stream",
       "stream": "stderr",
       "text": [
        "INFO - dNdE at 400 GeV: 9.69e-13 s^-1 cm^-2 GeV^-1\n"
       ]
      },
      {
       "output_type": "stream",
       "stream": "stderr",
       "text": [
        "INFO - dNdE at 1 TeV: 6.67e-14 s^-1 cm^-2 GeV^-1\n"
       ]
      },
      {
       "output_type": "stream",
       "stream": "stderr",
       "text": [
        "INFO - tau at min safe E: 0.39\n"
       ]
      },
      {
       "output_type": "stream",
       "stream": "stderr",
       "text": [
        "INFO - tau at max safe E: 161.84\n"
       ]
      },
      {
       "output_type": "stream",
       "stream": "stderr",
       "text": [
        "INFO - Predicted counts/hour: 6.30e+02\n"
       ]
      },
      {
       "output_type": "stream",
       "stream": "stderr",
       "text": [
        "INFO - This is approximately 95.5545% of the Crab Nebula's Flux\n"
       ]
      },
      {
       "output_type": "stream",
       "stream": "stderr",
       "text": [
        "INFO - This will take approximately 0.0354 hours to detect at a 5 sigma level\n"
       ]
      },
      {
       "output_type": "stream",
       "stream": "stderr",
       "text": [
        "WARNING - Spectrum starts below minimum energy in EBL table.\n"
       ]
      },
      {
       "output_type": "stream",
       "stream": "stderr",
       "text": [
        "WARNING - Spectrum continues beyond maximum energy in EBL table.\n"
       ]
      },
      {
       "output_type": "stream",
       "stream": "stderr",
       "text": [
        "WARNING - Using 659.0 counts/hr as the rate from the Crab Nebula.\n"
       ]
      },
      {
       "output_type": "stream",
       "stream": "stderr",
       "text": [
        "WARNING - Time to detection assumes a Crab Nebula Spectrum.\n"
       ]
      },
      {
       "output_type": "stream",
       "stream": "stderr",
       "text": [
        "INFO - Using Effective_Areas/VERITAS/ea_Nov2010_na_ATM21_vegasv240rc1_7sam_050off_soft-1.summary.csv\n"
       ]
      },
      {
       "output_type": "stream",
       "stream": "stderr",
       "text": [
        "INFO - Using EffectiveArea_Azimuth_0_Zenith_20_Noise_4.07\n"
       ]
      },
      {
       "output_type": "stream",
       "stream": "stderr",
       "text": [
        "INFO - Safe energy range: 177.83 to 25,118.86 GeV\n"
       ]
      },
      {
       "output_type": "stream",
       "stream": "stderr",
       "text": [
        "INFO - dNdE at 1 GeV: 1.37e-04 s^-1 cm^-2 GeV^-1\n"
       ]
      },
      {
       "output_type": "stream",
       "stream": "stderr",
       "text": [
        "INFO - dNdE at 400 GeV: 2.65e-10 s^-1 cm^-2 GeV^-1\n"
       ]
      },
      {
       "output_type": "stream",
       "stream": "stderr",
       "text": [
        "INFO - dNdE at 1 TeV: 3.54e-11 s^-1 cm^-2 GeV^-1\n"
       ]
      },
      {
       "output_type": "stream",
       "stream": "stderr",
       "text": [
        "INFO - tau at min safe E: 0.39\n"
       ]
      },
      {
       "output_type": "stream",
       "stream": "stderr",
       "text": [
        "INFO - tau at max safe E: 161.84\n"
       ]
      },
      {
       "output_type": "stream",
       "stream": "stderr",
       "text": [
        "INFO - Predicted counts/hour: 1.25e+05\n"
       ]
      },
      {
       "output_type": "stream",
       "stream": "stderr",
       "text": [
        "INFO - This is approximately 18,916.4721% of the Crab Nebula's Flux\n"
       ]
      },
      {
       "output_type": "stream",
       "stream": "stderr",
       "text": [
        "INFO - This will take approximately 0.0107 hours to detect at a 5 sigma level\n"
       ]
      },
      {
       "output_type": "stream",
       "stream": "stderr",
       "text": [
        "WARNING - Spectrum starts below minimum energy in EBL table.\n"
       ]
      },
      {
       "output_type": "stream",
       "stream": "stderr",
       "text": [
        "WARNING - Spectrum continues beyond maximum energy in EBL table.\n"
       ]
      },
      {
       "output_type": "stream",
       "stream": "stderr",
       "text": [
        "WARNING - Using 659.0 counts/hr as the rate from the Crab Nebula.\n"
       ]
      },
      {
       "output_type": "stream",
       "stream": "stderr",
       "text": [
        "WARNING - Time to detection assumes a Crab Nebula Spectrum.\n"
       ]
      },
      {
       "output_type": "stream",
       "stream": "stderr",
       "text": [
        "INFO - Using Effective_Areas/VERITAS/ea_Nov2010_na_ATM21_vegasv240rc1_7sam_050off_soft-1.summary.csv\n"
       ]
      },
      {
       "output_type": "stream",
       "stream": "stderr",
       "text": [
        "INFO - Using EffectiveArea_Azimuth_0_Zenith_20_Noise_4.07\n"
       ]
      },
      {
       "output_type": "stream",
       "stream": "stderr",
       "text": [
        "INFO - Safe energy range: 177.83 to 25,118.86 GeV\n"
       ]
      },
      {
       "output_type": "stream",
       "stream": "stderr",
       "text": [
        "INFO - dNdE at 1 GeV: 7.12e-05 s^-1 cm^-2 GeV^-1\n"
       ]
      },
      {
       "output_type": "stream",
       "stream": "stderr",
       "text": [
        "INFO - dNdE at 400 GeV: 5.77e-10 s^-1 cm^-2 GeV^-1\n"
       ]
      },
      {
       "output_type": "stream",
       "stream": "stderr",
       "text": [
        "INFO - dNdE at 1 TeV: 9.61e-11 s^-1 cm^-2 GeV^-1\n"
       ]
      },
      {
       "output_type": "stream",
       "stream": "stderr",
       "text": [
        "INFO - tau at min safe E: 0.39\n"
       ]
      },
      {
       "output_type": "stream",
       "stream": "stderr",
       "text": [
        "INFO - tau at max safe E: 161.84\n"
       ]
      },
      {
       "output_type": "stream",
       "stream": "stderr",
       "text": [
        "INFO - Predicted counts/hour: 2.48e+05\n"
       ]
      },
      {
       "output_type": "stream",
       "stream": "stderr",
       "text": [
        "INFO - This is approximately 37,576.3074% of the Crab Nebula's Flux\n"
       ]
      },
      {
       "output_type": "stream",
       "stream": "stderr",
       "text": [
        "INFO - This will take approximately 0.0107 hours to detect at a 5 sigma level\n"
       ]
      },
      {
       "output_type": "stream",
       "stream": "stderr",
       "text": [
        "WARNING - Spectrum starts below minimum energy in EBL table.\n"
       ]
      },
      {
       "output_type": "stream",
       "stream": "stderr",
       "text": [
        "WARNING - Spectrum continues beyond maximum energy in EBL table.\n"
       ]
      },
      {
       "output_type": "stream",
       "stream": "stderr",
       "text": [
        "WARNING - Using 659.0 counts/hr as the rate from the Crab Nebula.\n"
       ]
      },
      {
       "output_type": "stream",
       "stream": "stderr",
       "text": [
        "WARNING - Time to detection assumes a Crab Nebula Spectrum.\n"
       ]
      },
      {
       "output_type": "stream",
       "stream": "stderr",
       "text": [
        "INFO - Using Effective_Areas/VERITAS/ea_Nov2010_na_ATM21_vegasv240rc1_7sam_050off_soft-1.summary.csv\n"
       ]
      },
      {
       "output_type": "stream",
       "stream": "stderr",
       "text": [
        "INFO - Using EffectiveArea_Azimuth_0_Zenith_20_Noise_4.07\n"
       ]
      },
      {
       "output_type": "stream",
       "stream": "stderr",
       "text": [
        "INFO - Safe energy range: 177.83 to 25,118.86 GeV\n"
       ]
      },
      {
       "output_type": "stream",
       "stream": "stderr",
       "text": [
        "INFO - dNdE at 1 GeV: 3.63e-05 s^-1 cm^-2 GeV^-1\n"
       ]
      },
      {
       "output_type": "stream",
       "stream": "stderr",
       "text": [
        "INFO - dNdE at 400 GeV: 1.84e-10 s^-1 cm^-2 GeV^-1\n"
       ]
      },
      {
       "output_type": "stream",
       "stream": "stderr",
       "text": [
        "INFO - dNdE at 1 TeV: 2.85e-11 s^-1 cm^-2 GeV^-1\n"
       ]
      },
      {
       "output_type": "stream",
       "stream": "stderr",
       "text": [
        "INFO - tau at min safe E: 0.39\n"
       ]
      },
      {
       "output_type": "stream",
       "stream": "stderr",
       "text": [
        "INFO - tau at max safe E: 161.84\n"
       ]
      },
      {
       "output_type": "stream",
       "stream": "stderr",
       "text": [
        "INFO - Predicted counts/hour: 8.14e+04\n"
       ]
      },
      {
       "output_type": "stream",
       "stream": "stderr",
       "text": [
        "INFO - This is approximately 12,351.4442% of the Crab Nebula's Flux\n"
       ]
      },
      {
       "output_type": "stream",
       "stream": "stderr",
       "text": [
        "INFO - This will take approximately 0.0107 hours to detect at a 5 sigma level\n"
       ]
      },
      {
       "output_type": "stream",
       "stream": "stderr",
       "text": [
        "WARNING - Spectrum starts below minimum energy in EBL table.\n"
       ]
      },
      {
       "output_type": "stream",
       "stream": "stderr",
       "text": [
        "WARNING - Spectrum continues beyond maximum energy in EBL table.\n"
       ]
      },
      {
       "output_type": "stream",
       "stream": "stderr",
       "text": [
        "WARNING - Using 659.0 counts/hr as the rate from the Crab Nebula.\n"
       ]
      },
      {
       "output_type": "stream",
       "stream": "stderr",
       "text": [
        "WARNING - Time to detection assumes a Crab Nebula Spectrum.\n"
       ]
      },
      {
       "output_type": "stream",
       "stream": "stderr",
       "text": [
        "INFO - Using Effective_Areas/VERITAS/ea_Nov2010_na_ATM21_vegasv240rc1_7sam_050off_soft-1.summary.csv\n"
       ]
      },
      {
       "output_type": "stream",
       "stream": "stderr",
       "text": [
        "INFO - Using EffectiveArea_Azimuth_0_Zenith_20_Noise_4.07\n"
       ]
      },
      {
       "output_type": "stream",
       "stream": "stderr",
       "text": [
        "INFO - Safe energy range: 177.83 to 25,118.86 GeV\n"
       ]
      },
      {
       "output_type": "stream",
       "stream": "stderr",
       "text": [
        "INFO - dNdE at 1 GeV: 2.12e-05 s^-1 cm^-2 GeV^-1\n"
       ]
      },
      {
       "output_type": "stream",
       "stream": "stderr",
       "text": [
        "INFO - dNdE at 400 GeV: 7.05e-11 s^-1 cm^-2 GeV^-1\n"
       ]
      },
      {
       "output_type": "stream",
       "stream": "stderr",
       "text": [
        "INFO - dNdE at 1 TeV: 1.02e-11 s^-1 cm^-2 GeV^-1\n"
       ]
      },
      {
       "output_type": "stream",
       "stream": "stderr",
       "text": [
        "INFO - tau at min safe E: 0.39\n"
       ]
      },
      {
       "output_type": "stream",
       "stream": "stderr",
       "text": [
        "INFO - tau at max safe E: 161.84\n"
       ]
      },
      {
       "output_type": "stream",
       "stream": "stderr",
       "text": [
        "INFO - Predicted counts/hour: 3.20e+04\n"
       ]
      },
      {
       "output_type": "stream",
       "stream": "stderr",
       "text": [
        "INFO - This is approximately 4,862.3392% of the Crab Nebula's Flux\n"
       ]
      },
      {
       "output_type": "stream",
       "stream": "stderr",
       "text": [
        "INFO - This will take approximately 0.0107 hours to detect at a 5 sigma level\n"
       ]
      },
      {
       "output_type": "stream",
       "stream": "stderr",
       "text": [
        "WARNING - Spectrum starts below minimum energy in EBL table.\n"
       ]
      },
      {
       "output_type": "stream",
       "stream": "stderr",
       "text": [
        "WARNING - Spectrum continues beyond maximum energy in EBL table.\n"
       ]
      },
      {
       "output_type": "stream",
       "stream": "stderr",
       "text": [
        "WARNING - Using 659.0 counts/hr as the rate from the Crab Nebula.\n"
       ]
      },
      {
       "output_type": "stream",
       "stream": "stderr",
       "text": [
        "WARNING - Time to detection assumes a Crab Nebula Spectrum.\n"
       ]
      },
      {
       "output_type": "stream",
       "stream": "stderr",
       "text": [
        "INFO - Using Effective_Areas/VERITAS/ea_Nov2010_na_ATM21_vegasv240rc1_7sam_050off_soft-1.summary.csv\n"
       ]
      },
      {
       "output_type": "stream",
       "stream": "stderr",
       "text": [
        "INFO - Using EffectiveArea_Azimuth_0_Zenith_20_Noise_4.07\n"
       ]
      },
      {
       "output_type": "stream",
       "stream": "stderr",
       "text": [
        "INFO - Safe energy range: 177.83 to 25,118.86 GeV\n"
       ]
      },
      {
       "output_type": "stream",
       "stream": "stderr",
       "text": [
        "INFO - dNdE at 1 GeV: 1.71e-05 s^-1 cm^-2 GeV^-1\n"
       ]
      },
      {
       "output_type": "stream",
       "stream": "stderr",
       "text": [
        "INFO - dNdE at 400 GeV: 1.96e-11 s^-1 cm^-2 GeV^-1\n"
       ]
      },
      {
       "output_type": "stream",
       "stream": "stderr",
       "text": [
        "INFO - dNdE at 1 TeV: 2.42e-12 s^-1 cm^-2 GeV^-1\n"
       ]
      },
      {
       "output_type": "stream",
       "stream": "stderr",
       "text": [
        "INFO - tau at min safe E: 0.39\n"
       ]
      },
      {
       "output_type": "stream",
       "stream": "stderr",
       "text": [
        "INFO - tau at max safe E: 161.84\n"
       ]
      },
      {
       "output_type": "stream",
       "stream": "stderr",
       "text": [
        "INFO - Predicted counts/hour: 9.56e+03\n"
       ]
      },
      {
       "output_type": "stream",
       "stream": "stderr",
       "text": [
        "INFO - This is approximately 1,451.0865% of the Crab Nebula's Flux\n"
       ]
      },
      {
       "output_type": "stream",
       "stream": "stderr",
       "text": [
        "INFO - This will take approximately 0.0107 hours to detect at a 5 sigma level\n"
       ]
      },
      {
       "output_type": "stream",
       "stream": "stderr",
       "text": [
        "WARNING - Spectrum starts below minimum energy in EBL table.\n"
       ]
      },
      {
       "output_type": "stream",
       "stream": "stderr",
       "text": [
        "WARNING - Spectrum continues beyond maximum energy in EBL table.\n"
       ]
      },
      {
       "output_type": "stream",
       "stream": "stderr",
       "text": [
        "WARNING - Using 659.0 counts/hr as the rate from the Crab Nebula.\n"
       ]
      },
      {
       "output_type": "stream",
       "stream": "stderr",
       "text": [
        "WARNING - Time to detection assumes a Crab Nebula Spectrum.\n"
       ]
      },
      {
       "output_type": "stream",
       "stream": "stderr",
       "text": [
        "INFO - Using Effective_Areas/VERITAS/ea_Nov2010_na_ATM21_vegasv240rc1_7sam_050off_soft-1.summary.csv\n"
       ]
      },
      {
       "output_type": "stream",
       "stream": "stderr",
       "text": [
        "INFO - Using EffectiveArea_Azimuth_0_Zenith_20_Noise_4.07\n"
       ]
      },
      {
       "output_type": "stream",
       "stream": "stderr",
       "text": [
        "INFO - Safe energy range: 177.83 to 25,118.86 GeV\n"
       ]
      },
      {
       "output_type": "stream",
       "stream": "stderr",
       "text": [
        "INFO - dNdE at 1 GeV: 1.25e-05 s^-1 cm^-2 GeV^-1\n"
       ]
      },
      {
       "output_type": "stream",
       "stream": "stderr",
       "text": [
        "INFO - dNdE at 400 GeV: 3.68e-12 s^-1 cm^-2 GeV^-1\n"
       ]
      },
      {
       "output_type": "stream",
       "stream": "stderr",
       "text": [
        "INFO - dNdE at 1 TeV: 3.69e-13 s^-1 cm^-2 GeV^-1\n"
       ]
      },
      {
       "output_type": "stream",
       "stream": "stderr",
       "text": [
        "INFO - tau at min safe E: 0.39\n"
       ]
      },
      {
       "output_type": "stream",
       "stream": "stderr",
       "text": [
        "INFO - tau at max safe E: 161.84\n"
       ]
      },
      {
       "output_type": "stream",
       "stream": "stderr",
       "text": [
        "INFO - Predicted counts/hour: 1.98e+03\n"
       ]
      },
      {
       "output_type": "stream",
       "stream": "stderr",
       "text": [
        "INFO - This is approximately 300.3747% of the Crab Nebula's Flux\n"
       ]
      },
      {
       "output_type": "stream",
       "stream": "stderr",
       "text": [
        "INFO - This will take approximately 0.0112 hours to detect at a 5 sigma level\n"
       ]
      },
      {
       "output_type": "stream",
       "stream": "stderr",
       "text": [
        "WARNING - Spectrum starts below minimum energy in EBL table.\n"
       ]
      },
      {
       "output_type": "stream",
       "stream": "stderr",
       "text": [
        "WARNING - Spectrum continues beyond maximum energy in EBL table.\n"
       ]
      },
      {
       "output_type": "stream",
       "stream": "stderr",
       "text": [
        "WARNING - Using 659.0 counts/hr as the rate from the Crab Nebula.\n"
       ]
      },
      {
       "output_type": "stream",
       "stream": "stderr",
       "text": [
        "WARNING - Time to detection assumes a Crab Nebula Spectrum.\n"
       ]
      },
      {
       "output_type": "stream",
       "stream": "stderr",
       "text": [
        "INFO - Using Effective_Areas/VERITAS/ea_Nov2010_na_ATM21_vegasv240rc1_7sam_050off_soft-1.summary.csv\n"
       ]
      },
      {
       "output_type": "stream",
       "stream": "stderr",
       "text": [
        "INFO - Using EffectiveArea_Azimuth_0_Zenith_20_Noise_4.07\n"
       ]
      },
      {
       "output_type": "stream",
       "stream": "stderr",
       "text": [
        "INFO - Safe energy range: 177.83 to 25,118.86 GeV\n"
       ]
      },
      {
       "output_type": "stream",
       "stream": "stderr",
       "text": [
        "INFO - dNdE at 1 GeV: 9.55e-08 s^-1 cm^-2 GeV^-1\n"
       ]
      },
      {
       "output_type": "stream",
       "stream": "stderr",
       "text": [
        "INFO - dNdE at 400 GeV: 3.30e-14 s^-1 cm^-2 GeV^-1\n"
       ]
      },
      {
       "output_type": "stream",
       "stream": "stderr",
       "text": [
        "INFO - dNdE at 1 TeV: 3.40e-15 s^-1 cm^-2 GeV^-1\n"
       ]
      },
      {
       "output_type": "stream",
       "stream": "stderr",
       "text": [
        "INFO - tau at min safe E: 0.39\n"
       ]
      },
      {
       "output_type": "stream",
       "stream": "stderr",
       "text": [
        "INFO - tau at max safe E: 161.84\n"
       ]
      },
      {
       "output_type": "stream",
       "stream": "stderr",
       "text": [
        "INFO - Predicted counts/hour: 1.76e+01\n"
       ]
      },
      {
       "output_type": "stream",
       "stream": "stderr",
       "text": [
        "INFO - This is approximately 2.6672% of the Crab Nebula's Flux\n"
       ]
      },
      {
       "output_type": "stream",
       "stream": "stderr",
       "text": [
        "INFO - This will take approximately 4.3328 hours to detect at a 5 sigma level\n"
       ]
      },
      {
       "output_type": "stream",
       "stream": "stderr",
       "text": [
        "WARNING - Spectrum starts below minimum energy in EBL table.\n"
       ]
      },
      {
       "output_type": "stream",
       "stream": "stderr",
       "text": [
        "WARNING - Spectrum continues beyond maximum energy in EBL table.\n"
       ]
      },
      {
       "output_type": "stream",
       "stream": "stderr",
       "text": [
        "WARNING - Using 659.0 counts/hr as the rate from the Crab Nebula.\n"
       ]
      },
      {
       "output_type": "stream",
       "stream": "stderr",
       "text": [
        "WARNING - Time to detection assumes a Crab Nebula Spectrum.\n"
       ]
      },
      {
       "output_type": "stream",
       "stream": "stderr",
       "text": [
        "INFO - Using Effective_Areas/VERITAS/ea_Nov2010_na_ATM21_vegasv240rc1_7sam_050off_soft-1.summary.csv\n"
       ]
      },
      {
       "output_type": "stream",
       "stream": "stderr",
       "text": [
        "INFO - Using EffectiveArea_Azimuth_0_Zenith_20_Noise_4.07\n"
       ]
      },
      {
       "output_type": "stream",
       "stream": "stderr",
       "text": [
        "INFO - Safe energy range: 177.83 to 25,118.86 GeV\n"
       ]
      },
      {
       "output_type": "stream",
       "stream": "stderr",
       "text": [
        "INFO - dNdE at 1 GeV: 1.17e-09 s^-1 cm^-2 GeV^-1\n"
       ]
      },
      {
       "output_type": "stream",
       "stream": "stderr",
       "text": [
        "INFO - dNdE at 400 GeV: 7.31e-15 s^-1 cm^-2 GeV^-1\n"
       ]
      },
      {
       "output_type": "stream",
       "stream": "stderr",
       "text": [
        "INFO - dNdE at 1 TeV: 1.17e-15 s^-1 cm^-2 GeV^-1\n"
       ]
      },
      {
       "output_type": "stream",
       "stream": "stderr",
       "text": [
        "INFO - tau at min safe E: 0.39\n"
       ]
      },
      {
       "output_type": "stream",
       "stream": "stderr",
       "text": [
        "INFO - tau at max safe E: 161.84\n"
       ]
      },
      {
       "output_type": "stream",
       "stream": "stderr",
       "text": [
        "INFO - Predicted counts/hour: 3.19e+00\n"
       ]
      },
      {
       "output_type": "stream",
       "stream": "stderr",
       "text": [
        "INFO - This is approximately 0.4840% of the Crab Nebula's Flux\n"
       ]
      },
      {
       "output_type": "stream",
       "stream": "stderr",
       "text": [
        "INFO - This will take approximately 103.8836 hours to detect at a 5 sigma level\n"
       ]
      },
      {
       "output_type": "stream",
       "stream": "stderr",
       "text": [
        "WARNING - Spectrum starts below minimum energy in EBL table.\n"
       ]
      },
      {
       "output_type": "stream",
       "stream": "stderr",
       "text": [
        "WARNING - Spectrum continues beyond maximum energy in EBL table.\n"
       ]
      },
      {
       "output_type": "stream",
       "stream": "stderr",
       "text": [
        "WARNING - Using 659.0 counts/hr as the rate from the Crab Nebula.\n"
       ]
      },
      {
       "output_type": "stream",
       "stream": "stderr",
       "text": [
        "WARNING - Time to detection assumes a Crab Nebula Spectrum.\n"
       ]
      },
      {
       "output_type": "stream",
       "stream": "stderr",
       "text": [
        "INFO - Using Effective_Areas/VERITAS/ea_Nov2010_na_ATM21_vegasv240rc1_7sam_050off_soft-1.summary.csv\n"
       ]
      },
      {
       "output_type": "stream",
       "stream": "stderr",
       "text": [
        "INFO - Using EffectiveArea_Azimuth_0_Zenith_20_Noise_4.07\n"
       ]
      },
      {
       "output_type": "stream",
       "stream": "stderr",
       "text": [
        "INFO - Safe energy range: 177.83 to 25,118.86 GeV\n"
       ]
      },
      {
       "output_type": "stream",
       "stream": "stderr",
       "text": [
        "INFO - dNdE at 1 GeV: 2.65e-07 s^-1 cm^-2 GeV^-1\n"
       ]
      },
      {
       "output_type": "stream",
       "stream": "stderr",
       "text": [
        "INFO - dNdE at 400 GeV: 4.65e-13 s^-1 cm^-2 GeV^-1\n"
       ]
      },
      {
       "output_type": "stream",
       "stream": "stderr",
       "text": [
        "INFO - dNdE at 1 TeV: 6.13e-14 s^-1 cm^-2 GeV^-1\n"
       ]
      },
      {
       "output_type": "stream",
       "stream": "stderr",
       "text": [
        "INFO - tau at min safe E: 0.39\n"
       ]
      },
      {
       "output_type": "stream",
       "stream": "stderr",
       "text": [
        "INFO - tau at max safe E: 161.84\n"
       ]
      },
      {
       "output_type": "stream",
       "stream": "stderr",
       "text": [
        "INFO - Predicted counts/hour: 2.21e+02\n"
       ]
      },
      {
       "output_type": "stream",
       "stream": "stderr",
       "text": [
        "INFO - This is approximately 33.4755% of the Crab Nebula's Flux\n"
       ]
      },
      {
       "output_type": "stream",
       "stream": "stderr",
       "text": [
        "INFO - This will take approximately 0.1007 hours to detect at a 5 sigma level\n"
       ]
      }
     ],
     "prompt_number": 21
    },
    {
     "cell_type": "code",
     "collapsed": false,
     "input": [
      "y = [x*2 for x in GRB080916C.time_err]\n",
      "y_PF = [x for x in GRB080916C.PF]\n",
      "y_err = [x for x in GRB080916C.PF_err]\n",
      "print y,y_PF, y_err"
     ],
     "language": "python",
     "metadata": {},
     "outputs": [
      {
       "output_type": "stream",
       "stream": "stdout",
       "text": [
        "[10.0, 11.544346900299999, 24.871541435799998, 53.584111663900003, 115.44346900299999, 248.715414358, 535.84111663900001, 870.9860000000001] [0.0023500000000000001, 0.00106, 0.00060499999999999996, 0.000174, 7.2100000000000004e-05, 9.9699999999999994e-06, 5.1800000000000004e-06, 2.7700000000000002e-06] [0.00027999999999999998, 0.000176, 9.3999999999999994e-05, 3.8500000000000001e-05, 1.52e-05, 5.5799999999999999e-06, 3.2799999999999999e-06, 1.8300000000000001e-06]\n"
       ]
      }
     ],
     "prompt_number": 49
    },
    {
     "cell_type": "code",
     "collapsed": false,
     "input": [
      "arr = unumpy.uarray(y_PF,y_err)\n",
      "print arr"
     ],
     "language": "python",
     "metadata": {},
     "outputs": [
      {
       "output_type": "stream",
       "stream": "stdout",
       "text": [
        "[0.00235+/-0.00028 0.00106+/-0.000176 0.000605+/-9.4e-05\n",
        " 0.000174+/-3.85e-05 7.21e-05+/-1.52e-05 9.97e-06+/-5.58e-06\n",
        " 5.18e-06+/-3.28e-06 2.77e-06+/-1.83e-06]\n"
       ]
      }
     ],
     "prompt_number": 50
    },
    {
     "cell_type": "code",
     "collapsed": false,
     "input": [
      "y_sum = sum(y)\n",
      "A = y_sum/ (30*60)\n",
      "B = (A-1)*y_sum\n",
      "print B"
     ],
     "language": "python",
     "metadata": {},
     "outputs": [
      {
       "output_type": "stream",
       "stream": "stdout",
       "text": [
        "73.78545122\n"
       ]
      }
     ],
     "prompt_number": 51
    },
    {
     "cell_type": "code",
     "collapsed": false,
     "input": [
      "mod = math.modf(A)\n",
      "print mod"
     ],
     "language": "python",
     "metadata": {},
     "outputs": [
      {
       "output_type": "stream",
       "stream": "stdout",
       "text": [
        "(0.039436666666666786, 1.0)\n"
       ]
      }
     ],
     "prompt_number": 52
    },
    {
     "cell_type": "code",
     "collapsed": false,
     "input": [
      "mod[0]"
     ],
     "language": "python",
     "metadata": {},
     "outputs": [
      {
       "output_type": "pyout",
       "prompt_number": 53,
       "text": [
        "0.039436666666666786"
       ]
      }
     ],
     "prompt_number": 53
    },
    {
     "cell_type": "code",
     "collapsed": false,
     "input": [
      "print sum(y)\n",
      "new_bins = sum(y)/(30*60)\n",
      "print new_bins\n",
      "mod = math.modf(new_bins)\n",
      "A =  mod[1]\n",
      "print A\n",
      "B = (mod[0]/new_bins)*sum(y)\n",
      "print B\n",
      "for i in reversed(y):\n",
      "    if B > i:\n",
      "        B = B - i\n",
      "    else:\n",
      "        split_point = i\n",
      "        print B,i\n",
      "        break\n",
      "        "
     ],
     "language": "python",
     "metadata": {},
     "outputs": [
      {
       "output_type": "stream",
       "stream": "stdout",
       "text": [
        "1870.986\n",
        "1.03943666667\n",
        "1.0\n",
        "70.986\n",
        "70.986 870.986\n"
       ]
      }
     ],
     "prompt_number": 54
    },
    {
     "cell_type": "code",
     "collapsed": false,
     "input": [
      "split_point"
     ],
     "language": "python",
     "metadata": {},
     "outputs": [
      {
       "output_type": "pyout",
       "prompt_number": 55,
       "text": [
        "870.9860000000001"
       ]
      }
     ],
     "prompt_number": 55
    },
    {
     "cell_type": "code",
     "collapsed": false,
     "input": [
      "we = (split_point-B)/split_point"
     ],
     "language": "python",
     "metadata": {},
     "outputs": [],
     "prompt_number": 56
    },
    {
     "cell_type": "code",
     "collapsed": false,
     "input": [
      "y_new = y[:y.index(split_point)] + [split_point - B]"
     ],
     "language": "python",
     "metadata": {},
     "outputs": [],
     "prompt_number": 57
    },
    {
     "cell_type": "code",
     "collapsed": false,
     "input": [
      "y_new"
     ],
     "language": "python",
     "metadata": {},
     "outputs": [
      {
       "output_type": "pyout",
       "prompt_number": 58,
       "text": [
        "[10.0,\n",
        " 11.544346900299999,\n",
        " 24.871541435799998,\n",
        " 53.584111663900003,\n",
        " 115.44346900299999,\n",
        " 248.715414358,\n",
        " 535.84111663900001,\n",
        " 799.99999999999989]"
       ]
      }
     ],
     "prompt_number": 58
    },
    {
     "cell_type": "code",
     "collapsed": false,
     "input": [
      "sum(y_new)"
     ],
     "language": "python",
     "metadata": {},
     "outputs": [
      {
       "output_type": "pyout",
       "prompt_number": 59,
       "text": [
        "1800.0"
       ]
      }
     ],
     "prompt_number": 59
    },
    {
     "cell_type": "code",
     "collapsed": false,
     "input": [
      "y2_new = y[y.index(split_point)+1:] +[B] \n",
      "print y2_new"
     ],
     "language": "python",
     "metadata": {},
     "outputs": [
      {
       "output_type": "stream",
       "stream": "stdout",
       "text": [
        "[70.986000000000203]\n"
       ]
      }
     ],
     "prompt_number": 60
    },
    {
     "cell_type": "code",
     "collapsed": false,
     "input": [
      "sum(y2_new)"
     ],
     "language": "python",
     "metadata": {},
     "outputs": [
      {
       "output_type": "pyout",
       "prompt_number": 61,
       "text": [
        "70.986000000000203"
       ]
      }
     ],
     "prompt_number": 61
    },
    {
     "cell_type": "code",
     "collapsed": false,
     "input": [
      "y"
     ],
     "language": "python",
     "metadata": {},
     "outputs": [
      {
       "output_type": "pyout",
       "prompt_number": 62,
       "text": [
        "[10.0,\n",
        " 11.544346900299999,\n",
        " 24.871541435799998,\n",
        " 53.584111663900003,\n",
        " 115.44346900299999,\n",
        " 248.715414358,\n",
        " 535.84111663900001,\n",
        " 870.9860000000001]"
       ]
      }
     ],
     "prompt_number": 62
    },
    {
     "cell_type": "code",
     "collapsed": false,
     "input": [
      "new ={i:j for i,j in zip(y,arr)}"
     ],
     "language": "python",
     "metadata": {},
     "outputs": [],
     "prompt_number": 63
    },
    {
     "cell_type": "code",
     "collapsed": false,
     "input": [
      "new"
     ],
     "language": "python",
     "metadata": {},
     "outputs": [
      {
       "output_type": "pyout",
       "prompt_number": 64,
       "text": [
        "{10.0: 0.00235+/-0.00028,\n",
        " 11.544346900299999: 0.00106+/-0.000176,\n",
        " 24.871541435799998: 0.000605+/-9.4e-05,\n",
        " 53.584111663900003: 0.000174+/-3.85e-05,\n",
        " 115.44346900299999: 7.21e-05+/-1.52e-05,\n",
        " 248.715414358: 9.97e-06+/-5.58e-06,\n",
        " 535.84111663900001: 5.18e-06+/-3.28e-06,\n",
        " 870.9860000000001: 2.77e-06+/-1.83e-06}"
       ]
      }
     ],
     "prompt_number": 64
    },
    {
     "cell_type": "code",
     "collapsed": false,
     "input": [
      "p_flux = [sum([new[i] for i in np.array(y[:y.index(split_point)])])+ B] + [sum([new[i] for i in np.array(y[:y.index(split_point)])])+ we*new[split_point]]\n",
      "print p_flux"
     ],
     "language": "python",
     "metadata": {},
     "outputs": [
      {
       "output_type": "stream",
       "stream": "stdout",
       "text": [
        "0.00428+/-0.00035\n"
       ]
      }
     ],
     "prompt_number": 66
    },
    {
     "cell_type": "code",
     "collapsed": false,
     "input": [
      "we*new[split_point]"
     ],
     "language": "python",
     "metadata": {},
     "outputs": [
      {
       "output_type": "pyout",
       "prompt_number": 67,
       "text": [
        "2.5442429614253266e-06+/-1.68085365321601e-06"
       ]
      }
     ],
     "prompt_number": 67
    },
    {
     "cell_type": "code",
     "collapsed": false,
     "input": [
      "sum([new[i] for i in np.array(y[:y.index(split_point)])])+ B"
     ],
     "language": "python",
     "metadata": {},
     "outputs": [
      {
       "ename": "NameError",
       "evalue": "name 'np' is not defined",
       "output_type": "pyerr",
       "traceback": [
        "\u001b[1;31m---------------------------------------------------------------------------\u001b[0m\n\u001b[1;31mNameError\u001b[0m                                 Traceback (most recent call last)",
        "\u001b[1;32m<ipython-input-1-d39db970c6e3>\u001b[0m in \u001b[0;36m<module>\u001b[1;34m()\u001b[0m\n\u001b[1;32m----> 1\u001b[1;33m \u001b[0msum\u001b[0m\u001b[1;33m(\u001b[0m\u001b[1;33m[\u001b[0m\u001b[0mnew\u001b[0m\u001b[1;33m[\u001b[0m\u001b[0mi\u001b[0m\u001b[1;33m]\u001b[0m \u001b[1;32mfor\u001b[0m \u001b[0mi\u001b[0m \u001b[1;32min\u001b[0m \u001b[0mnp\u001b[0m\u001b[1;33m.\u001b[0m\u001b[0marray\u001b[0m\u001b[1;33m(\u001b[0m\u001b[0my\u001b[0m\u001b[1;33m[\u001b[0m\u001b[1;33m:\u001b[0m\u001b[0my\u001b[0m\u001b[1;33m.\u001b[0m\u001b[0mindex\u001b[0m\u001b[1;33m(\u001b[0m\u001b[0msplit_point\u001b[0m\u001b[1;33m)\u001b[0m\u001b[1;33m]\u001b[0m\u001b[1;33m)\u001b[0m\u001b[1;33m]\u001b[0m\u001b[1;33m)\u001b[0m\u001b[1;33m+\u001b[0m \u001b[0mB\u001b[0m\u001b[1;33m\u001b[0m\u001b[0m\n\u001b[0m",
        "\u001b[1;31mNameError\u001b[0m: name 'np' is not defined"
       ]
      }
     ],
     "prompt_number": 1
    },
    {
     "cell_type": "code",
     "collapsed": false,
     "input": [
      "from LC_VHE_timing import *\n"
     ],
     "language": "python",
     "metadata": {},
     "outputs": [],
     "prompt_number": 10
    },
    {
     "cell_type": "code",
     "collapsed": false,
     "input": [
      "GRB130427A = take_data(Burst = '130427324', redshift = 0.34, eblModel = 'Dominguez', instrument = 'VERITAS2', GC = [173.1370800,27.6990200], date = '2013/4/25 08:05:12')"
     ],
     "language": "python",
     "metadata": {},
     "outputs": []
    }
   ],
   "metadata": {}
  }
 ]
}